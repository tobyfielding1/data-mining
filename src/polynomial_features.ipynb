{
 "cells": [
  {
   "cell_type": "code",
   "execution_count": 4,
   "metadata": {},
   "outputs": [
    {
     "data": {
      "text/plain": [
       "'\\nFocuses on app_train only\\nThis notebook creates 20 (configurable number) polynomial features from the top columns agreed on by both \\npeasons correlation coefficient and lgbm (via feature importances).\\n'"
      ]
     },
     "execution_count": 4,
     "metadata": {},
     "output_type": "execute_result"
    }
   ],
   "source": [
    "'''\n",
    "Focuses on app_train only\n",
    "This notebook creates 20 (configurable number) polynomial features from the top columns agreed on by both \n",
    "peasons correlation coefficient and lgbm (via feature importances).\n",
    "'''"
   ]
  },
  {
   "cell_type": "code",
   "execution_count": 5,
   "metadata": {},
   "outputs": [],
   "source": [
    "# imports\n",
    "from utils import * # contains auxillary and pre-processing methods\n",
    "from models import * # contains methods for log_reg and lbgm with k-fold validation"
   ]
  },
  {
   "cell_type": "code",
   "execution_count": 6,
   "metadata": {},
   "outputs": [],
   "source": [
    "# load pre-processed dataframes - If loading doesn't work then you'll need to creat the dataframes from the \n",
    "#pre-processing notebook \n",
    "train_data = load_pickle(\"../dataframes/app_train_preprocessed.pickle\")\n",
    "test_data = load_pickle(\"../dataframes/app_test_preprocessed.pickle\")\n",
    "\n",
    "# get train labels and test ids\n",
    "train_Y = get_train_labels(train_data)\n",
    "test_ids = test_data[['SK_ID_CURR']]"
   ]
  },
  {
   "cell_type": "code",
   "execution_count": 7,
   "metadata": {},
   "outputs": [
    {
     "name": "stdout",
     "output_type": "stream",
     "text": [
      "Training Data Shape:  (307511, 230)\n",
      "Testing Data Shape:  (48744, 230)\n",
      "Training until validation scores don't improve for 100 rounds.\n",
      "[200]\tvalid's binary_logloss: 0.564164\tvalid's auc: 0.754049\ttrain's binary_logloss: 0.553932\ttrain's auc: 0.797368\n",
      "Early stopping, best iteration is:\n",
      "[263]\tvalid's binary_logloss: 0.558257\tvalid's auc: 0.754659\ttrain's binary_logloss: 0.545412\ttrain's auc: 0.807064\n"
     ]
    },
    {
     "ename": "ValueError",
     "evalue": "operands could not be broadcast together with shapes (232,) (230,) (232,) ",
     "output_type": "error",
     "traceback": [
      "\u001b[0;31m---------------------------------------------------------------------------\u001b[0m",
      "\u001b[0;31mValueError\u001b[0m                                Traceback (most recent call last)",
      "\u001b[0;32m<ipython-input-7-6bca21c8b0a9>\u001b[0m in \u001b[0;36m<module>\u001b[0;34m\u001b[0m\n\u001b[1;32m      9\u001b[0m \u001b[0;34m\u001b[0m\u001b[0m\n\u001b[1;32m     10\u001b[0m \u001b[0mfeature_names\u001b[0m \u001b[0;34m=\u001b[0m \u001b[0mtrain_data\u001b[0m\u001b[0;34m.\u001b[0m\u001b[0mcolumns\u001b[0m \u001b[0;31m# required to create feature importances\u001b[0m\u001b[0;34m\u001b[0m\u001b[0;34m\u001b[0m\u001b[0m\n\u001b[0;32m---> 11\u001b[0;31m \u001b[0mmodel\u001b[0m\u001b[0;34m,\u001b[0m \u001b[0mpredictions\u001b[0m\u001b[0;34m,\u001b[0m \u001b[0mfeature_importances\u001b[0m\u001b[0;34m,\u001b[0m \u001b[0mmetrics\u001b[0m \u001b[0;34m=\u001b[0m \u001b[0mgbm_basic\u001b[0m\u001b[0;34m(\u001b[0m\u001b[0mtrain_X\u001b[0m\u001b[0;34m,\u001b[0m \u001b[0mtrain_Y\u001b[0m\u001b[0;34m,\u001b[0m \u001b[0mtest_X\u001b[0m\u001b[0;34m,\u001b[0m \u001b[0mfeature_names\u001b[0m\u001b[0;34m,\u001b[0m \u001b[0mmodel_save_path\u001b[0m\u001b[0;34m=\u001b[0m\u001b[0;32mNone\u001b[0m\u001b[0;34m,\u001b[0m \u001b[0mn_folds\u001b[0m\u001b[0;34m=\u001b[0m\u001b[0;36m5\u001b[0m\u001b[0;34m)\u001b[0m \u001b[0;31m# don't save model as save_path=None\u001b[0m\u001b[0;34m\u001b[0m\u001b[0;34m\u001b[0m\u001b[0m\n\u001b[0m\u001b[1;32m     12\u001b[0m \u001b[0msave_pickle\u001b[0m\u001b[0;34m(\u001b[0m\u001b[0;34m\"../misc/gbm_simple_feature_importances.pickle\"\u001b[0m\u001b[0;34m,\u001b[0m \u001b[0mfeature_importances\u001b[0m\u001b[0;34m)\u001b[0m\u001b[0;34m\u001b[0m\u001b[0;34m\u001b[0m\u001b[0m\n",
      "\u001b[0;32m~/Documents/Scoala/Data Mining/data-mining/src/models.py\u001b[0m in \u001b[0;36mgbm_basic\u001b[0;34m(train_X, train_Y, test_X, feature_names, model_save_path, n_folds)\u001b[0m\n\u001b[1;32m    125\u001b[0m \u001b[0;34m\u001b[0m\u001b[0m\n\u001b[1;32m    126\u001b[0m         \u001b[0;31m# Record the feature importances - get the average from all the splits in a fold\u001b[0m\u001b[0;34m\u001b[0m\u001b[0;34m\u001b[0m\u001b[0;34m\u001b[0m\u001b[0m\n\u001b[0;32m--> 127\u001b[0;31m         \u001b[0mfeature_importance_values\u001b[0m \u001b[0;34m+=\u001b[0m \u001b[0mmodel\u001b[0m\u001b[0;34m.\u001b[0m\u001b[0mfeature_importances_\u001b[0m \u001b[0;34m/\u001b[0m \u001b[0mk_fold\u001b[0m\u001b[0;34m.\u001b[0m\u001b[0mn_splits\u001b[0m\u001b[0;34m\u001b[0m\u001b[0;34m\u001b[0m\u001b[0m\n\u001b[0m\u001b[1;32m    128\u001b[0m \u001b[0;34m\u001b[0m\u001b[0m\n\u001b[1;32m    129\u001b[0m         \u001b[0;31m# Make predictions - get the average from all the folds\u001b[0m\u001b[0;34m\u001b[0m\u001b[0;34m\u001b[0m\u001b[0;34m\u001b[0m\u001b[0m\n",
      "\u001b[0;31mValueError\u001b[0m: operands could not be broadcast together with shapes (232,) (230,) (232,) "
     ]
    }
   ],
   "source": [
    "'''Run lgbm and save the feature importances'''\n",
    "# need to drop TARGET and SK_ID_CURR   \n",
    "train_X = train_data.drop(columns=['TARGET', 'SK_ID_CURR'],inplace=False)\n",
    "test_X = test_data.drop(columns=['SK_ID_CURR'], inplace= False)\n",
    "\n",
    "# convert from dataframes to arrays\n",
    "train_X = train_X.values\n",
    "test_X = test_X.values\n",
    "\n",
    "feature_names = train_data.columns # required to create feature importances\n",
    "model, predictions, feature_importances, metrics = gbm_basic(train_X, train_Y, test_X, feature_names, model_save_path=None, n_folds=5) # don't save model as save_path=None\n",
    "save_pickle(\"../misc/gbm_simple_feature_importances.pickle\", feature_importances)"
   ]
  },
  {
   "cell_type": "code",
   "execution_count": 7,
   "metadata": {},
   "outputs": [
    {
     "name": "stdout",
     "output_type": "stream",
     "text": [
      "['EXT_SOURCE_1' 'EXT_SOURCE_3' 'EXT_SOURCE_2' 'DAYS_BIRTH' 'AMT_CREDIT'\n",
      " 'AMT_ANNUITY' 'DAYS_EMPLOYED' 'DAYS_ID_PUBLISH' 'AMT_GOODS_PRICE'\n",
      " 'DAYS_LAST_PHONE_CHANGE' 'DAYS_REGISTRATION' 'REGION_POPULATION_RELATIVE'\n",
      " 'AMT_INCOME_TOTAL' 'OWN_CAR_AGE' 'HOUR_APPR_PROCESS_START'\n",
      " 'TOTALAREA_MODE' 'AMT_REQ_CREDIT_BUREAU_YEAR' 'BASEMENTAREA_MODE'\n",
      " 'APARTMENTS_MODE' 'NAME_CONTRACT_TYPE' 'AMT_REQ_CREDIT_BUREAU_QRT'\n",
      " 'LANDAREA_MODE' 'YEARS_BEGINEXPLUATATION_MODE'\n",
      " 'NAME_EDUCATION_TYPE_Higher education' 'APARTMENTS_AVG' 'CODE_GENDER_F'\n",
      " 'BASEMENTAREA_AVG' 'NONLIVINGAREA_AVG' 'LIVINGAREA_MODE'\n",
      " 'OBS_30_CNT_SOCIAL_CIRCLE']\n"
     ]
    }
   ],
   "source": [
    "''' Return the top features determined by a lgbm model trained on the pre-processed app_train data'''\n",
    "def get_top_gbm_features(path, num_feats):\n",
    "    # get the names of the top n features for gbm \n",
    "    gbm_fi = load_pickle(path)\n",
    "    top_feats =  gbm_fi.sort_values(by=[\"importance\"], ascending=False)[:num_feats]['feature'].values\n",
    "    return top_feats\n",
    "    \n",
    "top_gbm_feats = get_top_gbm_features(\"../misc/gbm_simple_feature_importances.pickle\", 30)\n",
    "print(top_gbm_feats)"
   ]
  },
  {
   "cell_type": "code",
   "execution_count": 8,
   "metadata": {},
   "outputs": [
    {
     "name": "stdout",
     "output_type": "stream",
     "text": [
      "Index(['EXT_SOURCE_3', 'EXT_SOURCE_2', 'EXT_SOURCE_1', 'DAYS_BIRTH',\n",
      "       'DAYS_EMPLOYED', 'REGION_RATING_CLIENT_W_CITY', 'REGION_RATING_CLIENT',\n",
      "       'NAME_INCOME_TYPE_Working', 'NAME_EDUCATION_TYPE_Higher education',\n",
      "       'DAYS_LAST_PHONE_CHANGE', 'CODE_GENDER_M', 'CODE_GENDER_F',\n",
      "       'DAYS_ID_PUBLISH', 'REG_CITY_NOT_WORK_CITY',\n",
      "       'NAME_EDUCATION_TYPE_Secondary / secondary special',\n",
      "       'NAME_INCOME_TYPE_Pensioner', 'ORGANIZATION_TYPE_XNA',\n",
      "       'DAYS_EMPLOYED_ANOM', 'FLAG_EMP_PHONE', 'REG_CITY_NOT_LIVE_CITY',\n",
      "       'FLAG_DOCUMENT_3', 'FLOORSMAX_AVG', 'FLOORSMAX_MEDI', 'FLOORSMAX_MODE',\n",
      "       'OCCUPATION_TYPE_Laborers', 'EMERGENCYSTATE_MODE_No',\n",
      "       'DAYS_REGISTRATION', 'HOUSETYPE_MODE_block of flats', 'AMT_GOODS_PRICE',\n",
      "       'OWN_CAR_AGE'],\n",
      "      dtype='object')\n"
     ]
    }
   ],
   "source": [
    "def get_sorted_correlations(df, feature):\n",
    "    \"\"\"\n",
    "    Calculates the absolulte correlation score of every feature to the 'TARGET' column and returns the \n",
    "    correlations in descending order\n",
    "    \"\"\"\n",
    "    correlations = df.corr()[feature]\n",
    "    correlations = abs(correlations).sort_values(ascending=False)  # sort by correlation value (regardless if it's positive or negative)\n",
    "    correlations = correlations.dropna()  # drop nans\n",
    "    if 'TARGET' in correlations:\n",
    "        correlations = correlations.drop(labels=[feature, 'TARGET'])  # remove corr to itself and target\n",
    "    return correlations\n",
    "\n",
    "def get_top_correlations(corrs, num_feats:int):\n",
    "    \"\"\"\n",
    "    returns the top (num_feats) correlated columns given a correlation dataframe  \n",
    "    \"\"\"\n",
    "    return corrs[:num_feats].keys()\n",
    "\n",
    "# pcc_corrs = get_sorted_correlations(train_data, 'TARGET')\n",
    "# save_pickle('../misc/target_corr_sorted_pcc.pickle', pcc_corrs)\n",
    "pcc_corrs = load_pickle('../misc/target_corr_sorted_pcc.pickle') \n",
    "pcc_corrs = get_top_correlations(pcc_corrs, 30)\n",
    "print(pcc_corrs)"
   ]
  },
  {
   "cell_type": "code",
   "execution_count": 10,
   "metadata": {},
   "outputs": [
    {
     "data": {
      "text/plain": [
       "12"
      ]
     },
     "execution_count": 10,
     "metadata": {},
     "output_type": "execute_result"
    }
   ],
   "source": [
    "# get the top features agreed on by both pearsons correlation and lgbm\n",
    "top_corr_feats = set(top_gbm_feats).intersection(set(pcc_corrs))\n",
    "top_corr_feats = list(top_corr_feats)\n",
    "len(top_corr_feats)"
   ]
  },
  {
   "cell_type": "code",
   "execution_count": 14,
   "metadata": {},
   "outputs": [
    {
     "name": "stdout",
     "output_type": "stream",
     "text": [
      "Optimization terminated successfully.\n",
      "         Current function value: 0.403788\n",
      "         Iterations 7\n",
      "Optimization terminated successfully.\n",
      "         Current function value: 0.281536\n",
      "         Iterations 7\n",
      "Optimization terminated successfully.\n",
      "         Current function value: 0.305171\n",
      "         Iterations 6\n",
      "Optimization terminated successfully.\n",
      "         Current function value: 0.291889\n",
      "         Iterations 6\n",
      "Optimization terminated successfully.\n",
      "         Current function value: 0.279522\n",
      "         Iterations 7\n",
      "Optimization terminated successfully.\n",
      "         Current function value: 0.357624\n",
      "         Iterations 7\n",
      "Optimization terminated successfully.\n",
      "         Current function value: 0.274594\n",
      "         Iterations 7\n",
      "Optimization terminated successfully.\n",
      "         Current function value: 0.358709\n",
      "         Iterations 7\n",
      "Optimization terminated successfully.\n",
      "         Current function value: 0.320201\n",
      "         Iterations 7\n",
      "Optimization terminated successfully.\n",
      "         Current function value: 0.575244\n",
      "         Iterations 7\n",
      "Optimization terminated successfully.\n",
      "         Current function value: 0.328725\n",
      "         Iterations 7\n",
      "Optimization terminated successfully.\n",
      "         Current function value: 0.293178\n",
      "         Iterations 6\n",
      "Optimization terminated successfully.\n",
      "         Current function value: 0.403788\n",
      "         Iterations 7\n",
      "Optimization terminated successfully.\n",
      "         Current function value: 0.402666\n",
      "         Iterations 7\n",
      "Optimization terminated successfully.\n",
      "         Current function value: 0.419484\n",
      "         Iterations 7\n",
      "Optimization terminated successfully.\n",
      "         Current function value: 0.411283\n",
      "         Iterations 7\n",
      "Optimization terminated successfully.\n",
      "         Current function value: 0.406006\n",
      "         Iterations 7\n",
      "Optimization terminated successfully.\n",
      "         Current function value: 0.458503\n",
      "         Iterations 8\n",
      "Optimization terminated successfully.\n",
      "         Current function value: 0.399956\n",
      "         Iterations 7\n",
      "Optimization terminated successfully.\n",
      "         Current function value: 0.461465\n",
      "         Iterations 7\n",
      "Optimization terminated successfully.\n",
      "         Current function value: 0.431219\n",
      "         Iterations 7\n",
      "Optimization terminated successfully.\n",
      "         Current function value: 0.611521\n",
      "         Iterations 7\n",
      "Optimization terminated successfully.\n",
      "         Current function value: 0.426428\n",
      "         Iterations 7\n",
      "Optimization terminated successfully.\n",
      "         Current function value: 0.412667\n",
      "         Iterations 7\n",
      "Optimization terminated successfully.\n",
      "         Current function value: 0.300907\n",
      "         Iterations 7\n",
      "Optimization terminated successfully.\n",
      "         Current function value: 0.303161\n",
      "         Iterations 7\n",
      "Optimization terminated successfully.\n",
      "         Current function value: 0.290504\n",
      "         Iterations 7\n",
      "Optimization terminated successfully.\n",
      "         Current function value: 0.283465\n",
      "         Iterations 7\n",
      "Optimization terminated successfully.\n",
      "         Current function value: 0.358897\n",
      "         Iterations 8\n",
      "Optimization terminated successfully.\n",
      "         Current function value: 0.278228\n",
      "         Iterations 7\n",
      "Optimization terminated successfully.\n",
      "         Current function value: 0.342531\n",
      "         Iterations 7\n",
      "Optimization terminated successfully.\n",
      "         Current function value: 0.315513\n",
      "         Iterations 7\n",
      "Optimization terminated successfully.\n",
      "         Current function value: 0.575906\n",
      "         Iterations 7\n",
      "Optimization terminated successfully.\n",
      "         Current function value: 0.326237\n",
      "         Iterations 7\n",
      "Optimization terminated successfully.\n",
      "         Current function value: 0.291355\n",
      "         Iterations 7\n",
      "Optimization terminated successfully.\n",
      "         Current function value: 0.342375\n",
      "         Iterations 7\n",
      "Optimization terminated successfully.\n",
      "         Current function value: 0.317529\n",
      "         Iterations 6\n",
      "Optimization terminated successfully.\n",
      "         Current function value: 0.294757\n",
      "         Iterations 7\n",
      "Optimization terminated successfully.\n",
      "         Current function value: 0.371200\n",
      "         Iterations 7\n",
      "Optimization terminated successfully.\n",
      "         Current function value: 0.295079\n",
      "         Iterations 7\n",
      "Optimization terminated successfully.\n",
      "         Current function value: 0.382860\n",
      "         Iterations 7\n",
      "Optimization terminated successfully.\n",
      "         Current function value: 0.345497\n",
      "         Iterations 7\n",
      "Optimization terminated successfully.\n",
      "         Current function value: 0.580432\n",
      "         Iterations 7\n",
      "Optimization terminated successfully.\n",
      "         Current function value: 0.350864\n",
      "         Iterations 7\n",
      "Optimization terminated successfully.\n",
      "         Current function value: 0.318093\n",
      "         Iterations 7\n",
      "Optimization terminated successfully.\n",
      "         Current function value: 0.306669\n",
      "         Iterations 6\n",
      "Optimization terminated successfully.\n",
      "         Current function value: 0.287980\n",
      "         Iterations 7\n",
      "Optimization terminated successfully.\n",
      "         Current function value: 0.364257\n",
      "         Iterations 7\n",
      "Optimization terminated successfully.\n",
      "         Current function value: 0.283374\n",
      "         Iterations 7\n",
      "Optimization terminated successfully.\n",
      "         Current function value: 0.373079\n",
      "         Iterations 7\n",
      "Optimization terminated successfully.\n",
      "         Current function value: 0.332476\n",
      "         Iterations 7\n",
      "Optimization terminated successfully.\n",
      "         Current function value: 0.577756\n",
      "         Iterations 7\n",
      "Optimization terminated successfully.\n",
      "         Current function value: 0.339565\n",
      "         Iterations 7\n",
      "Optimization terminated successfully.\n",
      "         Current function value: 0.305338\n",
      "         Iterations 6\n",
      "Optimization terminated successfully.\n",
      "         Current function value: 0.309401\n",
      "         Iterations 7\n",
      "Optimization terminated successfully.\n",
      "         Current function value: 0.356407\n",
      "         Iterations 8\n",
      "Optimization terminated successfully.\n",
      "         Current function value: 0.276922\n",
      "         Iterations 7\n",
      "Optimization terminated successfully.\n",
      "         Current function value: 0.343140\n",
      "         Iterations 7\n",
      "Optimization terminated successfully.\n",
      "         Current function value: 0.310294\n",
      "         Iterations 7\n",
      "Optimization terminated successfully.\n",
      "         Current function value: 0.575504\n",
      "         Iterations 7\n",
      "Optimization terminated successfully.\n",
      "         Current function value: 0.321615\n",
      "         Iterations 7\n",
      "Optimization terminated successfully.\n",
      "         Current function value: 0.288610\n",
      "         Iterations 7\n",
      "Optimization terminated successfully.\n",
      "         Current function value: 0.462483\n",
      "         Iterations 8\n",
      "Optimization terminated successfully.\n",
      "         Current function value: 0.348135\n",
      "         Iterations 8\n",
      "Optimization terminated successfully.\n",
      "         Current function value: 0.402967\n",
      "         Iterations 7\n",
      "Optimization terminated successfully.\n",
      "         Current function value: 0.382755\n",
      "         Iterations 7\n",
      "Optimization terminated successfully.\n",
      "         Current function value: 0.595055\n",
      "         Iterations 8\n",
      "Optimization terminated successfully.\n",
      "         Current function value: 0.391486\n",
      "         Iterations 8\n",
      "Optimization terminated successfully.\n",
      "         Current function value: 0.366158\n",
      "         Iterations 7\n",
      "Optimization terminated successfully.\n",
      "         Current function value: 0.300714\n",
      "         Iterations 7\n",
      "Optimization terminated successfully.\n",
      "         Current function value: 0.339871\n",
      "         Iterations 7\n",
      "Optimization terminated successfully.\n",
      "         Current function value: 0.304542\n",
      "         Iterations 7\n",
      "Optimization terminated successfully.\n",
      "         Current function value: 0.575290\n",
      "         Iterations 7\n",
      "Optimization terminated successfully.\n",
      "         Current function value: 0.317932\n",
      "         Iterations 7\n",
      "Optimization terminated successfully.\n",
      "         Current function value: 0.283733\n",
      "         Iterations 7\n",
      "Optimization terminated successfully.\n",
      "         Current function value: 0.436040\n",
      "         Iterations 7\n",
      "Optimization terminated successfully.\n",
      "         Current function value: 0.397815\n",
      "         Iterations 7\n",
      "Optimization terminated successfully.\n",
      "         Current function value: 0.589331\n",
      "         Iterations 7\n",
      "Optimization terminated successfully.\n",
      "         Current function value: 0.401823\n",
      "         Iterations 7\n",
      "Optimization terminated successfully.\n",
      "         Current function value: 0.373875\n",
      "         Iterations 7\n",
      "Optimization terminated successfully.\n",
      "         Current function value: 0.391971\n",
      "         Iterations 7\n",
      "Optimization terminated successfully.\n",
      "         Current function value: 0.584053\n",
      "         Iterations 7\n",
      "Optimization terminated successfully.\n",
      "         Current function value: 0.364860\n",
      "         Iterations 7\n",
      "Optimization terminated successfully.\n",
      "         Current function value: 0.333927\n",
      "         Iterations 7\n",
      "Optimization terminated successfully.\n",
      "         Current function value: 0.575244\n",
      "         Iterations 7\n",
      "Optimization terminated successfully.\n",
      "         Current function value: 0.591520\n",
      "         Iterations 8\n",
      "Optimization terminated successfully.\n",
      "         Current function value: 0.577318\n",
      "         Iterations 7\n",
      "Optimization terminated successfully.\n",
      "         Current function value: 0.412782\n",
      "         Iterations 8\n",
      "Optimization terminated successfully.\n",
      "         Current function value: 0.340424\n",
      "         Iterations 7\n",
      "Optimization terminated successfully.\n",
      "         Current function value: 0.315926\n",
      "         Iterations 7\n",
      "Warning: Maximum number of iterations has been exceeded.\n",
      "         Current function value: 0.637190\n",
      "         Iterations: 35\n"
     ]
    },
    {
     "name": "stderr",
     "output_type": "stream",
     "text": [
      "C:\\Users\\Bhumika\\Anaconda3\\lib\\site-packages\\statsmodels\\base\\model.py:508: ConvergenceWarning: Maximum Likelihood optimization failed to converge. Check mle_retvals\n",
      "  \"Check mle_retvals\", ConvergenceWarning)\n"
     ]
    }
   ],
   "source": [
    "from sklearn.preprocessing import PolynomialFeatures\n",
    "\n",
    "def create_poly_feats(df, poly_cols, degree):\n",
    "    \"\"\"\n",
    "    Creates polynomial features from the columns given in the poly_cols list (up to a given degree) and returns a \n",
    "    dataframe containing the new polynomial features\n",
    "    \"\"\"\n",
    "    # cols to create poly feature from\n",
    "    selected_cols = df[poly_cols]\n",
    "    # create polynomial features  to the given degree\n",
    "    poly_transformer = PolynomialFeatures(degree=degree)\n",
    "    poly_transformer.fit(selected_cols)\n",
    "    poly_feats = poly_transformer.transform(selected_cols)\n",
    "    \n",
    "    # get the column names of the polynomial features\n",
    "    col_names = poly_transformer.get_feature_names(poly_cols)\n",
    "    poly_feats_df = pd.DataFrame(poly_feats, columns=col_names)\n",
    "    poly_feats_df= poly_feats_df.drop(columns=['1']) #drop the constant column\n",
    "    return poly_feats_df\n",
    "\n",
    "def calc_poly_aic_score(feats_df, n=10):\n",
    "    \"\"\"\n",
    "    Creates a dataframe mapping each feautre to its aic score and returns that along with the top n features with\n",
    "    the highest aic scores\n",
    "    \"\"\"\n",
    "    aic_scores = []\n",
    "    # calculate the aic score for each of the poly features\n",
    "    for col in feats_df:\n",
    "        aic_scores.append(imputed_col_aic(feats_df, col))\n",
    "    \n",
    "    aic_df = pd.DataFrame({'col':feats_df.columns, 'aic':aic_scores}) \n",
    "    best_n_cols = get_top_aic_cols(aic_df, n)\n",
    "    return aic_df, best_n_cols \n",
    "\n",
    "def get_top_aic_cols(df, n=10):\n",
    "    # return the n features with the lowest aic score\n",
    "    return df.sort_values(by='aic')[:n]['col'].values\n",
    "\n",
    "# get the polynomial features for the training data\n",
    "train_poly_df = create_poly_feats(train_data, top_corr_feats, 2)\n",
    "train_poly_df['TARGET'] = train_data['TARGET'] # add Target col to train\n",
    "\n",
    "# get the polynomial features for the testing\n",
    "test_poly_df = create_poly_feats(test_data, top_corr_feats, 2)\n",
    "\n",
    "# get the aic scores for each poly feature and the best features \n",
    "poly_aic_df, lowest_aic_cols = calc_poly_aic_score(train_poly_df, n=20)\n"
   ]
  },
  {
   "cell_type": "code",
   "execution_count": 46,
   "metadata": {},
   "outputs": [
    {
     "name": "stdout",
     "output_type": "stream",
     "text": [
      "Before adding poly feats (307511, 232) (48744, 231)\n",
      "After adding poly feats: (307511, 252) (48744, 251)\n",
      "File saved at  ../dataframes/app_train_top_20_poly.pickle\n",
      "File saved at  ../dataframes/app_test_top_20_poly.pickle\n"
     ]
    }
   ],
   "source": [
    "def merge_poly_feats(train_df, test_df, poly_train, poly_test):\n",
    "    \"\"\"\n",
    "    Joins the polynomial features to the test and train dataframes\n",
    "        - pass in original train and test dataframes and the dataframes for the poly features\n",
    "    \"\"\"\n",
    "    # Merge polynomial features into training dataframe\n",
    "    print(\"Before adding poly feats\", train_df.shape, test_df.shape)\n",
    "    poly_train['SK_ID_CURR'] = train_df['SK_ID_CURR']\n",
    "    poly_train = train_data.merge(poly_train, on = 'SK_ID_CURR', how = 'left')\n",
    "\n",
    "    #  Merge polynomial features into testing dataframe\n",
    "    poly_test['SK_ID_CURR'] = test_df['SK_ID_CURR']\n",
    "    poly_test = test_data.merge(poly_test, on = 'SK_ID_CURR', how = 'left')\n",
    "\n",
    "    print(\"After adding poly feats:\", poly_train.shape, poly_test.shape)\n",
    "    return poly_train, poly_test\n",
    "\n",
    "train_poly = train_poly_df[lowest_aic_cols] #top poly feature df\n",
    "test_poly = test_poly_df[lowest_aic_cols] #top poly feature df\n",
    "\n",
    "train_poly, test_poly = merge_poly_feats(train_data, test_data, train_poly, test_poly)\n",
    "\n",
    "# 'TARGET' should be the only extra feature in train_poly\n",
    "assert set(train_poly.columns).difference(set(test_poly.columns)) == set(['TARGET']), \"Only 'TARGET' should be the only extra feature in train_poly \"\n",
    "\n",
    "# save dataframes for pre-processed app train and test with top 20 polynomial features\n",
    "save_pickle(\"../dataframes/app_train_top_20_poly.pickle\", train_data)\n",
    "save_pickle(\"../dataframes/app_test_top_20_poly.pickle\", test_data)"
   ]
  },
  {
   "cell_type": "code",
   "execution_count": 47,
   "metadata": {},
   "outputs": [
    {
     "name": "stdout",
     "output_type": "stream",
     "text": [
      "Train (307511, 250), Test (48744, 250)\n"
     ]
    }
   ],
   "source": [
    "'''Prepare test and train data so it can be used for classifier models'''\n",
    "# need to drop TARGET and SK_ID_CURR   \n",
    "train_X = train_poly.drop(columns=['TARGET', 'SK_ID_CURR'],inplace=False)\n",
    "feature_names = train_X.columns # required to create feature importances in gbm_basic\n",
    "test_X = test_poly.drop(columns=['SK_ID_CURR'], inplace= False)\n",
    "\n",
    "# convert from dataframes to arrays\n",
    "train_X = train_X.values\n",
    "test_X = test_X.values\n",
    "\n",
    "print(\"Train {}, Test {}\".format(train_X.shape, test_X.shape))"
   ]
  },
  {
   "cell_type": "code",
   "execution_count": 39,
   "metadata": {},
   "outputs": [
    {
     "name": "stdout",
     "output_type": "stream",
     "text": [
      "Run 0 AUC socre: 0.7291750983760283\n",
      "Run 1 AUC socre: 0.7251648854716268\n",
      "Run 2 AUC socre: 0.7203465381180298\n",
      "Run 3 AUC socre: 0.7231694824843646\n",
      "Run 4 AUC socre: 0.7248236033827609\n",
      "Avg ROC AUC score: 0.7245359215665622\n"
     ]
    },
    {
     "data": {
      "image/png": "[encoded data removed]",
      "text/plain": [
       "<Figure size 432x288 with 1 Axes>"
      ]
     },
     "metadata": {},
     "output_type": "display_data"
    }
   ],
   "source": [
    "''' Create logistic regression classifier for baseline model, and score using ROC AUC '''\n",
    "model, predictions = baseline_log_reg(train_X, train_Y, test_X, save_path=None, C=0.0001) # don't save model as save_path=None\n",
    "cross_val_roc_curve(train_X, train_Y, model)\n",
    "# create_and_save_submission(test_ids, predictions, \"../test_predictions/filename.csv\") # Add filename"
   ]
  },
  {
   "cell_type": "code",
   "execution_count": 42,
   "metadata": {},
   "outputs": [
    {
     "name": "stdout",
     "output_type": "stream",
     "text": [
      "Run 0 AUC socre: 0.7588369532997209\n",
      "Run 1 AUC socre: 0.7478837526943873\n",
      "Run 2 AUC socre: 0.7508167658780468\n",
      "Run 3 AUC socre: 0.7564716925299175\n",
      "Run 4 AUC socre: 0.7595854213482741\n",
      "Avg ROC AUC score: 0.7547189171500692\n"
     ]
    },
    {
     "data": {
      "image/png": "[encoded data removed]",
      "text/plain": [
       "<Figure size 432x288 with 1 Axes>"
      ]
     },
     "metadata": {},
     "output_type": "display_data"
    }
   ],
   "source": [
    "''' Create light gradient boosting machine (lgbm) classifier for baseline model, and score using ROC AUC '''\n",
    "\n",
    "# NOTE : if this is very slow change n_estimators to 10 (will be much faster with scores of about 0.72)\n",
    "model = lgb.LGBMClassifier(n_estimators=100, objective='binary',\n",
    "                                   class_weight='balanced', learning_rate=0.05,\n",
    "                                   reg_alpha=0.1, reg_lambda=0.1,\n",
    "                                   subsample=0.8, n_jobs=-1, random_state=50)\n",
    "cross_val_roc_curve(train_X, train_Y, model)\n",
    "# create_and_save_submission(test_ids, predictions, \"../test_predictions/filename.csv\") # Add filename"
   ]
  },
  {
   "cell_type": "code",
   "execution_count": 48,
   "metadata": {},
   "outputs": [
    {
     "name": "stdout",
     "output_type": "stream",
     "text": [
      "Training Data Shape:  (307511, 250)\n",
      "Testing Data Shape:  (48744, 250)\n",
      "Training until validation scores don't improve for 100 rounds.\n",
      "[200]\tvalid's binary_logloss: 0.563957\tvalid's auc: 0.753861\ttrain's binary_logloss: 0.553428\ttrain's auc: 0.798197\n",
      "Early stopping, best iteration is:\n",
      "[297]\tvalid's binary_logloss: 0.554718\tvalid's auc: 0.754071\ttrain's binary_logloss: 0.539871\ttrain's auc: 0.813942\n",
      "Training until validation scores don't improve for 100 rounds.\n",
      "[200]\tvalid's binary_logloss: 0.564053\tvalid's auc: 0.757156\ttrain's binary_logloss: 0.553379\ttrain's auc: 0.798331\n",
      "Early stopping, best iteration is:\n",
      "[223]\tvalid's binary_logloss: 0.561893\tvalid's auc: 0.757252\ttrain's binary_logloss: 0.55013\ttrain's auc: 0.802184\n",
      "Training until validation scores don't improve for 100 rounds.\n",
      "[200]\tvalid's binary_logloss: 0.563927\tvalid's auc: 0.762799\ttrain's binary_logloss: 0.554372\ttrain's auc: 0.797309\n",
      "Early stopping, best iteration is:\n",
      "[200]\tvalid's binary_logloss: 0.563927\tvalid's auc: 0.762799\ttrain's binary_logloss: 0.554372\ttrain's auc: 0.797309\n",
      "Training until validation scores don't improve for 100 rounds.\n",
      "[200]\tvalid's binary_logloss: 0.563249\tvalid's auc: 0.757618\ttrain's binary_logloss: 0.553456\ttrain's auc: 0.798319\n",
      "Early stopping, best iteration is:\n",
      "[227]\tvalid's binary_logloss: 0.560479\tvalid's auc: 0.75774\ttrain's binary_logloss: 0.54939\ttrain's auc: 0.803153\n",
      "Training until validation scores don't improve for 100 rounds.\n",
      "[200]\tvalid's binary_logloss: 0.565114\tvalid's auc: 0.757793\ttrain's binary_logloss: 0.553443\ttrain's auc: 0.798316\n",
      "Early stopping, best iteration is:\n",
      "[256]\tvalid's binary_logloss: 0.559672\tvalid's auc: 0.758282\ttrain's binary_logloss: 0.545457\ttrain's auc: 0.807552\n"
     ]
    }
   ],
   "source": [
    "''' Create a lgbm, and train using k-fold validation'''\n",
    "# This model will take very long if cross_val_roc_curve(...) is used as the n_estimators is 1000 \n",
    "model, predictions, feature_importances, metrics = gbm_basic(train_X, train_Y, test_X, feature_names, model_save_path=None, n_folds=5) # don't save model as save_path=None\n",
    "# create_and_save_submission(test_ids, predictions, \"../test_predictions/filename.csv\") # Add filename\n",
    "print(metrics)"
   ]
  },
  {
   "cell_type": "code",
   "execution_count": 1,
   "metadata": {},
   "outputs": [],
   "source": [
    "'''Running random search on a log reg model (to try tune it) - will take a while to run'''\n",
    "model, preds = random_search_log_reg(train_X, train_Y, test_X, save_path=None)\n",
    "create_and_save_submission(test_data, preds, save_path='../test_predictions/log_reg_tuned_poly_feats.csv')"
   ]
  }
 ],
 "metadata": {
  "kernelspec": {
   "display_name": "Python 3",
   "language": "python",
   "name": "python3"
  },
  "language_info": {
   "codemirror_mode": {
    "name": "ipython",
    "version": 3
   },
   "file_extension": ".py",
   "mimetype": "text/x-python",
   "name": "python",
   "nbconvert_exporter": "python",
   "pygments_lexer": "ipython3",
   "version": "3.7.3"
  }
 },
 "nbformat": 4,
 "nbformat_minor": 2
}
