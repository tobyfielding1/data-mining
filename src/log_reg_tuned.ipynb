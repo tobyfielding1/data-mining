{
 "cells": [
  {
   "cell_type": "code",
   "execution_count": 1,
   "metadata": {},
   "outputs": [],
   "source": [
    "# imports\n",
    "import models\n",
    "import utils"
   ]
  },
  {
   "cell_type": "code",
   "execution_count": 2,
   "metadata": {},
   "outputs": [],
   "source": [
    "train_data = utils.load_pickle('./finaltrain.pkl')\n",
    "test_data = utils.load_pickle('./finaltest.pkl')"
   ]
  },
  {
   "cell_type": "code",
   "execution_count": 3,
   "metadata": {},
   "outputs": [
    {
     "name": "stdout",
     "output_type": "stream",
     "text": [
      "(307511, 608)\n",
      "(48744, 607)\n"
     ]
    }
   ],
   "source": [
    "print(train_data.shape)\n",
    "print(test_data.shape)"
   ]
  },
  {
   "cell_type": "code",
   "execution_count": 4,
   "metadata": {},
   "outputs": [],
   "source": [
    "# convert from dataframes to arrays\n",
    "# get train labels and test ids\n",
    "train_Y = utils.get_train_labels(train_data)\n",
    "test_ids = test_data[['SK_ID_CURR']]\n",
    "\n",
    "train_data.drop(columns=['SK_ID_CURR'], inplace=True)\n",
    "train_data.drop(columns=['TARGET'], inplace=True)\n",
    "test_data.drop(columns=['SK_ID_CURR'], inplace= True)\n",
    "\n",
    "\n",
    "train_X = train_data.values\n",
    "test_X = test_data.values\n",
    "feature_names = train_data.columns # required to create feature importances"
   ]
  },
  {
   "cell_type": "code",
   "execution_count": 5,
   "metadata": {},
   "outputs": [
    {
     "name": "stdout",
     "output_type": "stream",
     "text": [
      "Fitting 3 folds for each of 5 candidates, totalling 15 fits\n"
     ]
    },
    {
     "name": "stderr",
     "output_type": "stream",
     "text": [
      "[Parallel(n_jobs=-1)]: Using backend LokyBackend with 8 concurrent workers.\n",
      "[Parallel(n_jobs=-1)]: Done   6 out of  15 | elapsed: 44.9min remaining: 67.4min\n",
      "[Parallel(n_jobs=-1)]: Done  12 out of  15 | elapsed: 68.5min remaining: 17.1min\n",
      "[Parallel(n_jobs=-1)]: Done  15 out of  15 | elapsed: 71.0min finished\n"
     ]
    },
    {
     "name": "stdout",
     "output_type": "stream",
     "text": [
      "Best C: 0.5870235632684522\n",
      "Predictions saved to:  ../test_predictions/log_reg_tuned.csv\n"
     ]
    }
   ],
   "source": [
    "import imp; imp.reload(models)\n",
    "model, predictions = models.random_search_log_reg(train_X, train_Y, test_X, save_path=None)\n",
    "utils.create_and_save_submission(test_ids, predictions, save_path='../test_predictions/log_reg_tuned.csv')"
   ]
  },
  {
   "cell_type": "code",
   "execution_count": 8,
   "metadata": {},
   "outputs": [
    {
     "data": {
      "text/plain": [
       "<module 'models' from '/home/ar5g15/stuff/data-mining-model-tuning/src/models.py'>"
      ]
     },
     "execution_count": 8,
     "metadata": {},
     "output_type": "execute_result"
    }
   ],
   "source": [
    "import imp; imp.reload(models)"
   ]
  },
  {
   "cell_type": "code",
   "execution_count": 9,
   "metadata": {},
   "outputs": [
    {
     "name": "stdout",
     "output_type": "stream",
     "text": [
      "Training Data Shape:  (307511, 606)\n",
      "Testing Data Shape:  (48744, 606)\n",
      "Predictions saved to:  ../test_predictions/log_reg_tuned_cv.csv\n",
      "      fold     train     valid\n",
      "0        0  0.771959  0.768793\n",
      "1        1  0.772915  0.765571\n",
      "2        2  0.771658  0.769484\n",
      "3        3  0.772434  0.766667\n",
      "4        4  0.772493  0.766704\n",
      "5  overall  0.772292  0.767435\n"
     ]
    }
   ],
   "source": [
    "model, test_predictions, metrics = models.log_reg_cv(train_X, train_Y, test_X, feature_names, C=0.5870235632684522)\n",
    "utils.create_and_save_submission(test_ids, predictions, save_path='../test_predictions/log_reg_tuned_cv.csv')\n",
    "print(metrics)"
   ]
  },
  {
   "cell_type": "code",
   "execution_count": null,
   "metadata": {},
   "outputs": [],
   "source": []
  }
 ],
 "metadata": {
  "kernelspec": {
   "display_name": "Python 3",
   "language": "python",
   "name": "python3"
  },
  "language_info": {
   "codemirror_mode": {
    "name": "ipython",
    "version": 3
   },
   "file_extension": ".py",
   "mimetype": "text/x-python",
   "name": "python",
   "nbconvert_exporter": "python",
   "pygments_lexer": "ipython3",
   "version": "3.7.3"
  }
 },
 "nbformat": 4,
 "nbformat_minor": 2
}
