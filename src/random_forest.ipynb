{
 "cells": [
  {
   "cell_type": "code",
   "execution_count": 26,
   "metadata": {},
   "outputs": [],
   "source": [
    "# imports\n",
    "import models\n",
    "import utils\n",
    "\n",
    "import pandas as pd\n",
    "\n",
    "import numpy as np\n",
    "\n",
    "from sklearn.preprocessing import MinMaxScaler, Imputer"
   ]
  },
  {
   "cell_type": "code",
   "execution_count": 28,
   "metadata": {},
   "outputs": [
    {
     "name": "stdout",
     "output_type": "stream",
     "text": [
      "(307511, 606)\n",
      "(48744, 606)\n"
     ]
    }
   ],
   "source": [
    "train_data = utils.load_pickle(\"./final_features_train2.pkl\")\n",
    "test_data = utils.load_pickle(\"./final_features_test2.pkl\")\n",
    "# convert from dataframes to arrays\n",
    "# get train labels and test ids\n",
    "train_Y = utils.get_train_labels(train_data)\n",
    "test_ids = test_data[['SK_ID_CURR']]\n",
    "\n",
    "# drop SK_ID and TARGET\n",
    "train_data.drop(columns=['TARGET'], inplace=True)\n",
    "train_data.drop(columns=['SK_ID_CURR'], inplace=True)\n",
    "test_data.drop(columns=['SK_ID_CURR'], inplace= True)\n",
    "\n",
    "print(train_data.shape)\n",
    "print(test_data.shape)"
   ]
  },
  {
   "cell_type": "code",
   "execution_count": 59,
   "metadata": {},
   "outputs": [],
   "source": [
    "train_X = train_data.values\n",
    "test_X = test_data.values\n",
    "feature_names = train_data.columns # required to create feature importances\n",
    "\n",
    "# Cleaning dataframes of overflow values\n",
    "train_X[np.where(train_X >= np.finfo(np.float64).max)] = np.nan\n",
    "test_X[np.where(test_X >= np.finfo(np.float64).max)] = np.nan\n",
    "\n",
    "# Median imputation of missing values\n",
    "imputer = Imputer(strategy = 'median')\n",
    "\n",
    "imputer.fit(train_X)\n",
    "\n",
    "train_X = imputer.transform(train_X)\n",
    "test_X = imputer.transform(test_X)\n",
    "\n",
    "\n",
    "# Scale each feature to 0-1\n",
    "scaler = MinMaxScaler(feature_range = (0, 1))\n",
    "\n",
    "scaler.fit(train_X)\n",
    "\n",
    "train_X = scaler.transform(train_X)\n",
    "test_X = scaler.transform(test_X)"
   ]
  },
  {
   "cell_type": "code",
   "execution_count": 62,
   "metadata": {},
   "outputs": [
    {
     "name": "stdout",
     "output_type": "stream",
     "text": [
      "Training Data Shape:  (307511, 606)\n",
      "Testing Data Shape:  (48744, 606)\n"
     ]
    },
    {
     "name": "stderr",
     "output_type": "stream",
     "text": [
      "[Parallel(n_jobs=8)]: Using backend ThreadingBackend with 8 concurrent workers.\n",
      "[Parallel(n_jobs=8)]: Done  34 tasks      | elapsed:   43.2s\n",
      "[Parallel(n_jobs=8)]: Done 184 tasks      | elapsed:  3.5min\n",
      "[Parallel(n_jobs=8)]: Done 434 tasks      | elapsed:  8.1min\n",
      "[Parallel(n_jobs=8)]: Done 500 out of 500 | elapsed:  9.3min finished\n",
      "[Parallel(n_jobs=8)]: Using backend ThreadingBackend with 8 concurrent workers.\n",
      "[Parallel(n_jobs=8)]: Done  34 tasks      | elapsed:    0.2s\n",
      "[Parallel(n_jobs=8)]: Done 184 tasks      | elapsed:    1.3s\n",
      "[Parallel(n_jobs=8)]: Done 434 tasks      | elapsed:    2.9s\n",
      "[Parallel(n_jobs=8)]: Done 500 out of 500 | elapsed:    3.3s finished\n",
      "[Parallel(n_jobs=8)]: Using backend ThreadingBackend with 8 concurrent workers.\n",
      "[Parallel(n_jobs=8)]: Done  34 tasks      | elapsed:    1.6s\n",
      "[Parallel(n_jobs=8)]: Done 184 tasks      | elapsed:    8.3s\n",
      "[Parallel(n_jobs=8)]: Done 434 tasks      | elapsed:   19.3s\n",
      "[Parallel(n_jobs=8)]: Done 500 out of 500 | elapsed:   22.2s finished\n",
      "[Parallel(n_jobs=8)]: Using backend ThreadingBackend with 8 concurrent workers.\n",
      "[Parallel(n_jobs=8)]: Done  34 tasks      | elapsed:    0.3s\n",
      "[Parallel(n_jobs=8)]: Done 184 tasks      | elapsed:    1.4s\n",
      "[Parallel(n_jobs=8)]: Done 434 tasks      | elapsed:    3.4s\n",
      "[Parallel(n_jobs=8)]: Done 500 out of 500 | elapsed:    3.9s finished\n",
      "[Parallel(n_jobs=8)]: Using backend ThreadingBackend with 8 concurrent workers.\n",
      "[Parallel(n_jobs=8)]: Done  34 tasks      | elapsed:   43.7s\n",
      "[Parallel(n_jobs=8)]: Done 184 tasks      | elapsed:  3.5min\n",
      "[Parallel(n_jobs=8)]: Done 434 tasks      | elapsed:  8.2min\n",
      "[Parallel(n_jobs=8)]: Done 500 out of 500 | elapsed:  9.5min finished\n",
      "[Parallel(n_jobs=8)]: Using backend ThreadingBackend with 8 concurrent workers.\n",
      "[Parallel(n_jobs=8)]: Done  34 tasks      | elapsed:    0.2s\n",
      "[Parallel(n_jobs=8)]: Done 184 tasks      | elapsed:    1.2s\n",
      "[Parallel(n_jobs=8)]: Done 434 tasks      | elapsed:    2.8s\n",
      "[Parallel(n_jobs=8)]: Done 500 out of 500 | elapsed:    3.2s finished\n",
      "[Parallel(n_jobs=8)]: Using backend ThreadingBackend with 8 concurrent workers.\n",
      "[Parallel(n_jobs=8)]: Done  34 tasks      | elapsed:    1.7s\n",
      "[Parallel(n_jobs=8)]: Done 184 tasks      | elapsed:    8.6s\n",
      "[Parallel(n_jobs=8)]: Done 434 tasks      | elapsed:   19.9s\n",
      "[Parallel(n_jobs=8)]: Done 500 out of 500 | elapsed:   22.9s finished\n",
      "[Parallel(n_jobs=8)]: Using backend ThreadingBackend with 8 concurrent workers.\n",
      "[Parallel(n_jobs=8)]: Done  34 tasks      | elapsed:    0.3s\n",
      "[Parallel(n_jobs=8)]: Done 184 tasks      | elapsed:    1.4s\n",
      "[Parallel(n_jobs=8)]: Done 434 tasks      | elapsed:    3.4s\n",
      "[Parallel(n_jobs=8)]: Done 500 out of 500 | elapsed:    3.8s finished\n",
      "[Parallel(n_jobs=8)]: Using backend ThreadingBackend with 8 concurrent workers.\n",
      "[Parallel(n_jobs=8)]: Done  34 tasks      | elapsed:   43.5s\n",
      "[Parallel(n_jobs=8)]: Done 184 tasks      | elapsed:  3.5min\n",
      "[Parallel(n_jobs=8)]: Done 434 tasks      | elapsed:  8.2min\n",
      "[Parallel(n_jobs=8)]: Done 500 out of 500 | elapsed:  9.4min finished\n",
      "[Parallel(n_jobs=8)]: Using backend ThreadingBackend with 8 concurrent workers.\n",
      "[Parallel(n_jobs=8)]: Done  34 tasks      | elapsed:    0.3s\n",
      "[Parallel(n_jobs=8)]: Done 184 tasks      | elapsed:    1.2s\n",
      "[Parallel(n_jobs=8)]: Done 434 tasks      | elapsed:    2.7s\n",
      "[Parallel(n_jobs=8)]: Done 500 out of 500 | elapsed:    3.2s finished\n",
      "[Parallel(n_jobs=8)]: Using backend ThreadingBackend with 8 concurrent workers.\n",
      "[Parallel(n_jobs=8)]: Done  34 tasks      | elapsed:    1.6s\n",
      "[Parallel(n_jobs=8)]: Done 184 tasks      | elapsed:    8.2s\n",
      "[Parallel(n_jobs=8)]: Done 434 tasks      | elapsed:   19.4s\n",
      "[Parallel(n_jobs=8)]: Done 500 out of 500 | elapsed:   22.2s finished\n",
      "[Parallel(n_jobs=8)]: Using backend ThreadingBackend with 8 concurrent workers.\n",
      "[Parallel(n_jobs=8)]: Done  34 tasks      | elapsed:    0.4s\n",
      "[Parallel(n_jobs=8)]: Done 184 tasks      | elapsed:    1.5s\n",
      "[Parallel(n_jobs=8)]: Done 434 tasks      | elapsed:    3.4s\n",
      "[Parallel(n_jobs=8)]: Done 500 out of 500 | elapsed:    3.8s finished\n",
      "[Parallel(n_jobs=8)]: Using backend ThreadingBackend with 8 concurrent workers.\n",
      "[Parallel(n_jobs=8)]: Done  34 tasks      | elapsed:   43.2s\n",
      "[Parallel(n_jobs=8)]: Done 184 tasks      | elapsed:  3.5min\n",
      "[Parallel(n_jobs=8)]: Done 434 tasks      | elapsed:  8.2min\n",
      "[Parallel(n_jobs=8)]: Done 500 out of 500 | elapsed:  9.4min finished\n",
      "[Parallel(n_jobs=8)]: Using backend ThreadingBackend with 8 concurrent workers.\n",
      "[Parallel(n_jobs=8)]: Done  34 tasks      | elapsed:    0.3s\n",
      "[Parallel(n_jobs=8)]: Done 184 tasks      | elapsed:    1.2s\n",
      "[Parallel(n_jobs=8)]: Done 434 tasks      | elapsed:    2.7s\n",
      "[Parallel(n_jobs=8)]: Done 500 out of 500 | elapsed:    3.1s finished\n",
      "[Parallel(n_jobs=8)]: Using backend ThreadingBackend with 8 concurrent workers.\n",
      "[Parallel(n_jobs=8)]: Done  34 tasks      | elapsed:    1.6s\n",
      "[Parallel(n_jobs=8)]: Done 184 tasks      | elapsed:    8.1s\n",
      "[Parallel(n_jobs=8)]: Done 434 tasks      | elapsed:   19.0s\n",
      "[Parallel(n_jobs=8)]: Done 500 out of 500 | elapsed:   21.8s finished\n",
      "[Parallel(n_jobs=8)]: Using backend ThreadingBackend with 8 concurrent workers.\n",
      "[Parallel(n_jobs=8)]: Done  34 tasks      | elapsed:    0.4s\n",
      "[Parallel(n_jobs=8)]: Done 184 tasks      | elapsed:    1.5s\n",
      "[Parallel(n_jobs=8)]: Done 434 tasks      | elapsed:    3.4s\n",
      "[Parallel(n_jobs=8)]: Done 500 out of 500 | elapsed:    3.9s finished\n",
      "[Parallel(n_jobs=8)]: Using backend ThreadingBackend with 8 concurrent workers.\n",
      "[Parallel(n_jobs=8)]: Done  34 tasks      | elapsed:   44.2s\n",
      "[Parallel(n_jobs=8)]: Done 184 tasks      | elapsed:  3.5min\n",
      "[Parallel(n_jobs=8)]: Done 434 tasks      | elapsed:  8.2min\n",
      "[Parallel(n_jobs=8)]: Done 500 out of 500 | elapsed:  9.5min finished\n",
      "[Parallel(n_jobs=8)]: Using backend ThreadingBackend with 8 concurrent workers.\n",
      "[Parallel(n_jobs=8)]: Done  34 tasks      | elapsed:    0.2s\n",
      "[Parallel(n_jobs=8)]: Done 184 tasks      | elapsed:    1.2s\n",
      "[Parallel(n_jobs=8)]: Done 434 tasks      | elapsed:    2.8s\n",
      "[Parallel(n_jobs=8)]: Done 500 out of 500 | elapsed:    3.2s finished\n",
      "[Parallel(n_jobs=8)]: Using backend ThreadingBackend with 8 concurrent workers.\n",
      "[Parallel(n_jobs=8)]: Done  34 tasks      | elapsed:    1.4s\n",
      "[Parallel(n_jobs=8)]: Done 184 tasks      | elapsed:    8.2s\n",
      "[Parallel(n_jobs=8)]: Done 434 tasks      | elapsed:   19.0s\n",
      "[Parallel(n_jobs=8)]: Done 500 out of 500 | elapsed:   21.8s finished\n",
      "[Parallel(n_jobs=8)]: Using backend ThreadingBackend with 8 concurrent workers.\n",
      "[Parallel(n_jobs=8)]: Done  34 tasks      | elapsed:    0.3s\n",
      "[Parallel(n_jobs=8)]: Done 184 tasks      | elapsed:    1.4s\n",
      "[Parallel(n_jobs=8)]: Done 434 tasks      | elapsed:    3.2s\n",
      "[Parallel(n_jobs=8)]: Done 500 out of 500 | elapsed:    3.7s finished\n"
     ]
    },
    {
     "name": "stdout",
     "output_type": "stream",
     "text": [
      "Predictions saved to:  ../test_predictions/random_forest.csv\n"
     ]
    }
   ],
   "source": [
    "import imp; imp.reload(models); imp.reload(utils)\n",
    "model, predictions, feature_importances, metrics = models.random_forest(train_X, train_Y, test_X, feature_names, n_estimators=500)\n",
    "utils.create_and_save_submission(test_ids, predictions, save_path='../test_predictions/random_forest.csv')"
   ]
  },
  {
   "cell_type": "code",
   "execution_count": 63,
   "metadata": {},
   "outputs": [
    {
     "name": "stdout",
     "output_type": "stream",
     "text": [
      "      fold  train     valid\n",
      "0        0    1.0  0.737297\n",
      "1        1    1.0  0.735247\n",
      "2        2    1.0  0.733776\n",
      "3        3    1.0  0.737842\n",
      "4        4    1.0  0.736799\n",
      "5  overall    1.0  0.736175\n"
     ]
    }
   ],
   "source": [
    "print(metrics)"
   ]
  },
  {
   "cell_type": "code",
   "execution_count": null,
   "metadata": {},
   "outputs": [],
   "source": []
  }
 ],
 "metadata": {
  "kernelspec": {
   "display_name": "Python 3",
   "language": "python",
   "name": "python3"
  },
  "language_info": {
   "codemirror_mode": {
    "name": "ipython",
    "version": 3
   },
   "file_extension": ".py",
   "mimetype": "text/x-python",
   "name": "python",
   "nbconvert_exporter": "python",
   "pygments_lexer": "ipython3",
   "version": "3.7.3"
  }
 },
 "nbformat": 4,
 "nbformat_minor": 2
}
