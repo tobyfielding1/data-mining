{
 "cells": [
  {
   "cell_type": "code",
   "execution_count": 7,
   "metadata": {},
   "outputs": [
    {
     "data": {
      "text/plain": [
       "'\\nCombines other dataframes\\nUses feature tools for deep feature synthesis\\n'"
      ]
     },
     "execution_count": 7,
     "metadata": {},
     "output_type": "execute_result"
    }
   ],
   "source": [
    "'''\n",
    "Combines other dataframes\n",
    "Uses feature tools for deep feature synthesis\n",
    "'''"
   ]
  },
  {
   "cell_type": "code",
   "execution_count": 8,
   "metadata": {},
   "outputs": [],
   "source": [
    "# pandas and numpy for data manipulation\n",
    "import pandas as pd\n",
    "import numpy as np\n",
    "\n",
    "# featuretools for automated feature engineering\n",
    "import featuretools as ft\n",
    "\n",
    "# Suppress warnings from pandas\n",
    "import warnings\n",
    "warnings.filterwarnings('ignore')\n",
    "\n",
    "# imports\n",
    "from utils import *\n",
    "from models import *"
   ]
  },
  {
   "cell_type": "code",
   "execution_count": 9,
   "metadata": {},
   "outputs": [],
   "source": [
    "# read in data - limit to 1000 rows for now\n",
    "app_test = pd.read_csv('../input/application_test.csv').sort_values('SK_ID_CURR').reset_index(drop = True)\n",
    "\n",
    "app_train = pd.read_csv('../input/application_train.csv').sort_values('SK_ID_CURR').reset_index(drop = True)#.loc[:1000, :]\n",
    "bureau = pd.read_csv('../input/bureau.csv').sort_values(['SK_ID_CURR', 'SK_ID_BUREAU']).reset_index(drop = True)#.loc[:10000, :]\n",
    "bureau_balance = pd.read_csv('../input/bureau_balance.csv').sort_values('SK_ID_BUREAU').reset_index(drop = True)#.loc[:10000, :]\n",
    "\n",
    "# cash = pd.read_csv('../input/POS_CASH_balance.csv').sort_values(['SK_ID_CURR', 'SK_ID_PREV']).reset_index(drop = True).loc[:10000, :]\n",
    "# credit = pd.read_csv('../input/credit_card_balance.csv').sort_values(['SK_ID_CURR', 'SK_ID_PREV']).reset_index(drop = True).loc[:10000, :]\n",
    "# previous = pd.read_csv('../input/previous_application.csv').sort_values(['SK_ID_CURR', 'SK_ID_PREV']).reset_index(drop = True).loc[:10000, :]\n",
    "# installments = pd.read_csv('../input/installments_payments.csv').sort_values(['SK_ID_CURR', 'SK_ID_PREV']).reset_index(drop = True).loc[:10000, :]\n"
   ]
  },
  {
   "cell_type": "code",
   "execution_count": 10,
   "metadata": {},
   "outputs": [],
   "source": [
    "# Combine the train and test to a single df (stack train on test). This means all processing can be done on both in 1 go\n",
    "# LEAKING MAY BE A ISSUE! \n",
    "def combine_app_train_test(train, test):\n",
    "    # Add identifying column\n",
    "    train['set'] = 'train'\n",
    "    test['set'] = 'test'\n",
    "    test[\"TARGET\"] = np.nan\n",
    "\n",
    "    # Append the dataframes\n",
    "    app = train.append(test, ignore_index = True)\n",
    "    return app\n",
    "\n",
    "app = combine_app_train_test(app_train, app_test)\n"
   ]
  },
  {
   "cell_type": "code",
   "execution_count": 12,
   "metadata": {},
   "outputs": [
    {
     "ename": "NameError",
     "evalue": "name 'previous' is not defined",
     "output_type": "error",
     "traceback": [
      "\u001b[0;31m---------------------------------------------------------------------------\u001b[0m",
      "\u001b[0;31mNameError\u001b[0m                                 Traceback (most recent call last)",
      "\u001b[0;32m<ipython-input-12-442d71628fbd>\u001b[0m in \u001b[0;36m<module>\u001b[0;34m\u001b[0m\n\u001b[1;32m     23\u001b[0m \u001b[0;31m# Entitiy set (es) stores all data. Entity ~ table\u001b[0m\u001b[0;34m\u001b[0m\u001b[0;34m\u001b[0m\u001b[0;34m\u001b[0m\u001b[0m\n\u001b[1;32m     24\u001b[0m \u001b[0mes\u001b[0m \u001b[0;34m=\u001b[0m \u001b[0mft\u001b[0m\u001b[0;34m.\u001b[0m\u001b[0mEntitySet\u001b[0m\u001b[0;34m(\u001b[0m\u001b[0mid\u001b[0m \u001b[0;34m=\u001b[0m \u001b[0;34m'clients'\u001b[0m\u001b[0;34m)\u001b[0m\u001b[0;34m\u001b[0m\u001b[0;34m\u001b[0m\u001b[0m\n\u001b[0;32m---> 25\u001b[0;31m \u001b[0mes\u001b[0m \u001b[0;34m=\u001b[0m \u001b[0madd_entities\u001b[0m\u001b[0;34m(\u001b[0m\u001b[0mes\u001b[0m\u001b[0;34m)\u001b[0m\u001b[0;34m\u001b[0m\u001b[0;34m\u001b[0m\u001b[0m\n\u001b[0m\u001b[1;32m     26\u001b[0m \u001b[0mes\u001b[0m\u001b[0;34m\u001b[0m\u001b[0;34m\u001b[0m\u001b[0m\n",
      "\u001b[0;32m<ipython-input-12-442d71628fbd>\u001b[0m in \u001b[0;36madd_entities\u001b[0;34m(entity_set)\u001b[0m\n\u001b[1;32m      4\u001b[0m     \u001b[0mentity_set\u001b[0m \u001b[0;34m=\u001b[0m \u001b[0mentity_set\u001b[0m\u001b[0;34m.\u001b[0m\u001b[0mentity_from_dataframe\u001b[0m\u001b[0;34m(\u001b[0m\u001b[0mentity_id\u001b[0m \u001b[0;34m=\u001b[0m \u001b[0;34m'app'\u001b[0m\u001b[0;34m,\u001b[0m \u001b[0mdataframe\u001b[0m \u001b[0;34m=\u001b[0m \u001b[0mapp\u001b[0m\u001b[0;34m,\u001b[0m \u001b[0mindex\u001b[0m \u001b[0;34m=\u001b[0m \u001b[0;34m'SK_ID_CURR'\u001b[0m\u001b[0;34m)\u001b[0m\u001b[0;34m\u001b[0m\u001b[0;34m\u001b[0m\u001b[0m\n\u001b[1;32m      5\u001b[0m     \u001b[0mentity_set\u001b[0m \u001b[0;34m=\u001b[0m \u001b[0mentity_set\u001b[0m\u001b[0;34m.\u001b[0m\u001b[0mentity_from_dataframe\u001b[0m\u001b[0;34m(\u001b[0m\u001b[0mentity_id\u001b[0m \u001b[0;34m=\u001b[0m \u001b[0;34m'bureau'\u001b[0m\u001b[0;34m,\u001b[0m \u001b[0mdataframe\u001b[0m \u001b[0;34m=\u001b[0m \u001b[0mbureau\u001b[0m\u001b[0;34m,\u001b[0m \u001b[0mindex\u001b[0m \u001b[0;34m=\u001b[0m \u001b[0;34m'SK_ID_BUREAU'\u001b[0m\u001b[0;34m)\u001b[0m\u001b[0;34m\u001b[0m\u001b[0;34m\u001b[0m\u001b[0m\n\u001b[0;32m----> 6\u001b[0;31m     \u001b[0mentity_set\u001b[0m \u001b[0;34m=\u001b[0m \u001b[0mentity_set\u001b[0m\u001b[0;34m.\u001b[0m\u001b[0mentity_from_dataframe\u001b[0m\u001b[0;34m(\u001b[0m\u001b[0mentity_id\u001b[0m \u001b[0;34m=\u001b[0m \u001b[0;34m'previous'\u001b[0m\u001b[0;34m,\u001b[0m \u001b[0mdataframe\u001b[0m \u001b[0;34m=\u001b[0m \u001b[0mprevious\u001b[0m\u001b[0;34m,\u001b[0m \u001b[0mindex\u001b[0m \u001b[0;34m=\u001b[0m \u001b[0;34m'SK_ID_PREV'\u001b[0m\u001b[0;34m)\u001b[0m\u001b[0;34m\u001b[0m\u001b[0;34m\u001b[0m\u001b[0m\n\u001b[0m\u001b[1;32m      7\u001b[0m \u001b[0;34m\u001b[0m\u001b[0m\n\u001b[1;32m      8\u001b[0m     \u001b[0;31m# For entitites which do not have a unique index column, create one\u001b[0m\u001b[0;34m\u001b[0m\u001b[0;34m\u001b[0m\u001b[0;34m\u001b[0m\u001b[0m\n",
      "\u001b[0;31mNameError\u001b[0m: name 'previous' is not defined"
     ]
    }
   ],
   "source": [
    "\n",
    "def add_entities(entity_set):\n",
    "    # Add the different entities (tables) to the entityset\n",
    "    entity_set = entity_set.entity_from_dataframe(entity_id = 'app', dataframe = app, index = 'SK_ID_CURR')\n",
    "    entity_set = entity_set.entity_from_dataframe(entity_id = 'bureau', dataframe = bureau, index = 'SK_ID_BUREAU')\n",
    "    entity_set = entity_set.entity_from_dataframe(entity_id = 'previous', dataframe = previous, index = 'SK_ID_PREV')\n",
    "\n",
    "    # For entitites which do not have a unique index column, create one\n",
    "    # This will update the original dataframe with new indexes \n",
    "    entity_set = entity_set.entity_from_dataframe(entity_id = 'bureau_balance', dataframe = bureau_balance, \n",
    "                                  make_index = True, index = 'bureau_balance_index')\n",
    "    \n",
    "    entity_set = entity_set.entity_from_dataframe(entity_id = 'cash', dataframe = cash, \n",
    "                              make_index = True, index = 'cash_index')\n",
    "    \n",
    "    entity_set = entity_set.entity_from_dataframe(entity_id = 'installments', dataframe = installments,\n",
    "                              make_index = True, index = 'installments_index')\n",
    "    \n",
    "    entity_set = entity_set.entity_from_dataframe(entity_id = 'credit', dataframe = credit,\n",
    "                              make_index = True, index = 'credit_index')\n",
    "    return entity_set\n",
    "\n",
    "# Entitiy set (es) stores all data. Entity ~ table\n",
    "es = ft.EntitySet(id = 'clients')\n",
    "es = add_entities(es)\n",
    "es"
   ]
  },
  {
   "cell_type": "code",
   "execution_count": 5,
   "metadata": {},
   "outputs": [],
   "source": [
    "def add_relationships(entity_set):\n",
    "    # Relationship between app and bureau\n",
    "    rel_app_bureau = ft.Relationship(entity_set['app']['SK_ID_CURR'], entity_set['bureau']['SK_ID_CURR'])\n",
    "\n",
    "    # Relationship between bureau and bureau balance\n",
    "    rel_bureau_balance = ft.Relationship(entity_set['bureau']['SK_ID_BUREAU'], entity_set['bureau_balance']['SK_ID_BUREAU'])\n",
    "\n",
    "    # Relationship between current app and previous apps\n",
    "    rel_app_previous = ft.Relationship(entity_set['app']['SK_ID_CURR'], entity_set['previous']['SK_ID_CURR'])\n",
    "    \n",
    "    # Relationships between previous apps and cash, installments, and credit\n",
    "    rel_previous_cash = ft.Relationship(entity_set['previous']['SK_ID_PREV'], entity_set['cash']['SK_ID_PREV'])\n",
    "    rel_previous_installments = ft.Relationship(entity_set['previous']['SK_ID_PREV'], entity_set['installments']['SK_ID_PREV'])\n",
    "    rel_previous_credit = ft.Relationship(entity_set['previous']['SK_ID_PREV'], entity_set['credit']['SK_ID_PREV'])\n",
    "\n",
    "    # Add in the defined relationships\n",
    "    entity_set = entity_set.add_relationships([rel_app_bureau, rel_bureau_balance, rel_app_previous,\n",
    "                           rel_previous_cash, rel_previous_installments, rel_previous_credit])\n",
    "    return entity_set\n",
    "\n",
    "es = add_relationships(es)"
   ]
  },
  {
   "cell_type": "code",
   "execution_count": 6,
   "metadata": {},
   "outputs": [
    {
     "data": {
      "text/plain": [
       "Entityset: clients\n",
       "  Entities:\n",
       "    app [Rows: 49745, Columns: 123]\n",
       "    bureau [Rows: 1001, Columns: 17]\n",
       "    previous [Rows: 1001, Columns: 37]\n",
       "    bureau_balance [Rows: 1001, Columns: 4]\n",
       "    cash [Rows: 1001, Columns: 9]\n",
       "    installments [Rows: 1001, Columns: 9]\n",
       "    credit [Rows: 1001, Columns: 24]\n",
       "  Relationships:\n",
       "    bureau.SK_ID_CURR -> app.SK_ID_CURR\n",
       "    bureau_balance.SK_ID_BUREAU -> bureau.SK_ID_BUREAU\n",
       "    previous.SK_ID_CURR -> app.SK_ID_CURR\n",
       "    cash.SK_ID_PREV -> previous.SK_ID_PREV\n",
       "    installments.SK_ID_PREV -> previous.SK_ID_PREV\n",
       "    credit.SK_ID_PREV -> previous.SK_ID_PREV"
      ]
     },
     "execution_count": 6,
     "metadata": {},
     "output_type": "execute_result"
    }
   ],
   "source": [
    "# # Default primitives from featuretools\n",
    "# default_agg_primitives =  [\"sum\", \"std\", \"max\", \"skew\", \"min\", \"mean\", \"count\", \"mode\"]\n",
    "# default_trans_primitives = []\n",
    "# # default_trans_primitives =  [\"day\", \"year\", \"month\"]\n",
    "\n",
    "# # DFS with specified primitives\n",
    "# feature_names = ft.dfs(entityset = es, target_entity = 'app',\n",
    "#                        trans_primitives = default_trans_primitives,\n",
    "#                        agg_primitives=default_agg_primitives, \n",
    "#                        max_depth = 2, features_only=True)\n",
    "\n",
    "# print('%d Total Features' % len(feature_names))\n",
    "es"
   ]
  },
  {
   "cell_type": "code",
   "execution_count": 6,
   "metadata": {},
   "outputs": [
    {
     "name": "stdout",
     "output_type": "stream",
     "text": [
      "Built 1654 features\n",
      "Elapsed: 06:20 | Remaining: 00:00 | Progress: 100%|██████████████████████████████████████████| Calculated: 11/11 chunks\n"
     ]
    },
    {
     "data": {
      "text/plain": [
       "[<Feature: SKEW(bureau.SUM(bureau_balance.MONTHS_BALANCE))>,\n",
       " <Feature: SKEW(bureau.STD(bureau_balance.MONTHS_BALANCE))>,\n",
       " <Feature: SKEW(bureau.MAX(bureau_balance.MONTHS_BALANCE))>,\n",
       " <Feature: SKEW(bureau.MIN(bureau_balance.MONTHS_BALANCE))>,\n",
       " <Feature: SKEW(bureau.MEAN(bureau_balance.MONTHS_BALANCE))>,\n",
       " <Feature: SKEW(bureau.COUNT(bureau_balance))>,\n",
       " <Feature: MIN(bureau.SUM(bureau_balance.MONTHS_BALANCE))>,\n",
       " <Feature: MIN(bureau.STD(bureau_balance.MONTHS_BALANCE))>,\n",
       " <Feature: MIN(bureau.MAX(bureau_balance.MONTHS_BALANCE))>,\n",
       " <Feature: MIN(bureau.SKEW(bureau_balance.MONTHS_BALANCE))>,\n",
       " <Feature: MIN(bureau.MEAN(bureau_balance.MONTHS_BALANCE))>,\n",
       " <Feature: MIN(bureau.COUNT(bureau_balance))>,\n",
       " <Feature: MEAN(bureau.SUM(bureau_balance.MONTHS_BALANCE))>,\n",
       " <Feature: MEAN(bureau.STD(bureau_balance.MONTHS_BALANCE))>,\n",
       " <Feature: MEAN(bureau.MAX(bureau_balance.MONTHS_BALANCE))>,\n",
       " <Feature: MEAN(bureau.SKEW(bureau_balance.MONTHS_BALANCE))>,\n",
       " <Feature: MEAN(bureau.MIN(bureau_balance.MONTHS_BALANCE))>,\n",
       " <Feature: MEAN(bureau.MEAN(bureau_balance.MONTHS_BALANCE))>,\n",
       " <Feature: MEAN(bureau.COUNT(bureau_balance))>,\n",
       " <Feature: MODE(bureau.MODE(bureau_balance.STATUS))>]"
      ]
     },
     "execution_count": 6,
     "metadata": {},
     "output_type": "execute_result"
    }
   ],
   "source": [
    "def create_deep_synthetic_features(entity_set, agg_primitives, trans_primitives=[], target_entity='app', max_depth = 2):\n",
    "    # DFS with default primitives\n",
    "    features, feature_names = ft.dfs(entityset = entity_set, target_entity = target_entity,\n",
    "                                           trans_primitives = trans_primitives,\n",
    "                                           agg_primitives=agg_primitives, \n",
    "                                            max_depth = 2, features_only=False, verbose = True)\n",
    "\n",
    "    return features, feature_names\n",
    "\n",
    "agg_primitives =  [\"sum\", \"std\", \"max\", \"skew\", \"min\", \"mean\", \"count\", \"mode\"]\n",
    "trans_primitives = []\n",
    "\n",
    "ds_features, ds_feature_names = create_deep_synthetic_features(es, agg_primitives, trans_primitives)\n",
    "# pd.options.display.max_columns = 1700\n",
    "ds_feature_names[-20:]\n"
   ]
  },
  {
   "cell_type": "code",
   "execution_count": 7,
   "metadata": {},
   "outputs": [
    {
     "name": "stdout",
     "output_type": "stream",
     "text": [
      "Removed 162 features\n"
     ]
    }
   ],
   "source": [
    "from featuretools import selection\n",
    "all_ds_features = ds_features.copy()\n",
    "# Remove features with only one unique value\n",
    "ds_features = selection.remove_low_information_features(ds_features)\n",
    "\n",
    "print('Removed %d features' % (all_ds_features.shape[1]- ds_features.shape[1]))"
   ]
  },
  {
   "cell_type": "code",
   "execution_count": 134,
   "metadata": {},
   "outputs": [
    {
     "ename": "KeyboardInterrupt",
     "evalue": "",
     "output_type": "error",
     "traceback": [
      "\u001b[1;31m---------------------------------------------------------------------------\u001b[0m",
      "\u001b[1;31mKeyboardInterrupt\u001b[0m                         Traceback (most recent call last)",
      "\u001b[1;32m<ipython-input-134-68720a746eaf>\u001b[0m in \u001b[0;36m<module>\u001b[1;34m()\u001b[0m\n\u001b[0;32m      2\u001b[0m \u001b[0mdf\u001b[0m \u001b[1;33m=\u001b[0m \u001b[0mds_features\u001b[0m\u001b[1;33m[\u001b[0m\u001b[0mds_features\u001b[0m\u001b[1;33m[\u001b[0m\u001b[1;34m'set'\u001b[0m\u001b[1;33m]\u001b[0m \u001b[1;33m==\u001b[0m \u001b[1;34m'train'\u001b[0m\u001b[1;33m]\u001b[0m\u001b[1;33m\u001b[0m\u001b[0m\n\u001b[0;32m      3\u001b[0m \u001b[0mdf\u001b[0m \u001b[1;33m=\u001b[0m \u001b[0mdf\u001b[0m\u001b[1;33m.\u001b[0m\u001b[0mdrop\u001b[0m\u001b[1;33m(\u001b[0m\u001b[0mcolumns\u001b[0m \u001b[1;33m=\u001b[0m \u001b[1;33m[\u001b[0m\u001b[1;34m'set'\u001b[0m\u001b[1;33m]\u001b[0m\u001b[1;33m)\u001b[0m\u001b[1;33m\u001b[0m\u001b[0m\n\u001b[1;32m----> 4\u001b[1;33m \u001b[0mdsf_corrs\u001b[0m \u001b[1;33m=\u001b[0m \u001b[0mdf\u001b[0m\u001b[1;33m.\u001b[0m\u001b[0mcorr\u001b[0m\u001b[1;33m(\u001b[0m\u001b[1;33m)\u001b[0m\u001b[1;33m\u001b[0m\u001b[0m\n\u001b[0m\u001b[0;32m      5\u001b[0m \u001b[0mcorrelations_target\u001b[0m \u001b[1;33m=\u001b[0m \u001b[0mdsf_corrs\u001b[0m\u001b[1;33m.\u001b[0m\u001b[0msort_values\u001b[0m\u001b[1;33m(\u001b[0m\u001b[1;34m'TARGET'\u001b[0m\u001b[1;33m)\u001b[0m\u001b[1;33m[\u001b[0m\u001b[1;34m'TARGET'\u001b[0m\u001b[1;33m]\u001b[0m\u001b[1;33m\u001b[0m\u001b[0m\n\u001b[0;32m      6\u001b[0m \u001b[0mcorrelations_target\u001b[0m\u001b[1;33m.\u001b[0m\u001b[0mdropna\u001b[0m\u001b[1;33m(\u001b[0m\u001b[1;33m)\u001b[0m\u001b[1;33m.\u001b[0m\u001b[0mtail\u001b[0m\u001b[1;33m(\u001b[0m\u001b[1;33m)\u001b[0m\u001b[1;33m,\u001b[0m \u001b[0mcorrelations_target\u001b[0m\u001b[1;33m.\u001b[0m\u001b[0mhead\u001b[0m\u001b[1;33m(\u001b[0m\u001b[1;33m)\u001b[0m\u001b[1;33m\u001b[0m\u001b[0m\n",
      "\u001b[1;32m~\\Anaconda3\\lib\\site-packages\\pandas\\core\\frame.py\u001b[0m in \u001b[0;36mcorr\u001b[1;34m(self, method, min_periods)\u001b[0m\n\u001b[0;32m   6505\u001b[0m \u001b[1;33m\u001b[0m\u001b[0m\n\u001b[0;32m   6506\u001b[0m         \u001b[1;32mif\u001b[0m \u001b[0mmethod\u001b[0m \u001b[1;33m==\u001b[0m \u001b[1;34m'pearson'\u001b[0m\u001b[1;33m:\u001b[0m\u001b[1;33m\u001b[0m\u001b[0m\n\u001b[1;32m-> 6507\u001b[1;33m             \u001b[0mcorrel\u001b[0m \u001b[1;33m=\u001b[0m \u001b[0mlibalgos\u001b[0m\u001b[1;33m.\u001b[0m\u001b[0mnancorr\u001b[0m\u001b[1;33m(\u001b[0m\u001b[0m_ensure_float64\u001b[0m\u001b[1;33m(\u001b[0m\u001b[0mmat\u001b[0m\u001b[1;33m)\u001b[0m\u001b[1;33m,\u001b[0m \u001b[0mminp\u001b[0m\u001b[1;33m=\u001b[0m\u001b[0mmin_periods\u001b[0m\u001b[1;33m)\u001b[0m\u001b[1;33m\u001b[0m\u001b[0m\n\u001b[0m\u001b[0;32m   6508\u001b[0m         \u001b[1;32melif\u001b[0m \u001b[0mmethod\u001b[0m \u001b[1;33m==\u001b[0m \u001b[1;34m'spearman'\u001b[0m\u001b[1;33m:\u001b[0m\u001b[1;33m\u001b[0m\u001b[0m\n\u001b[0;32m   6509\u001b[0m             correl = libalgos.nancorr_spearman(_ensure_float64(mat),\n",
      "\u001b[1;31mKeyboardInterrupt\u001b[0m: "
     ]
    }
   ],
   "source": [
    "# Find correlations wrt to training data columns\n",
    "# df = ds_features[ds_features['set'] == 'train']\n",
    "# df = df.drop(columns = ['set'])\n",
    "# dsf_corrs = df.corr()\n",
    "# correlations_target = dsf_corrs.sort_values('TARGET')['TARGET']\n",
    "# correlations_target.dropna().tail(), correlations_target.head()"
   ]
  },
  {
   "cell_type": "code",
   "execution_count": null,
   "metadata": {},
   "outputs": [],
   "source": [
    "# import seaborn as sns\n",
    "# def kde_target_plot(df, feature):\n",
    "#     \"\"\"Kernel density estimate plot of a feature colored\n",
    "#     by value of the target.\"\"\"\n",
    "    \n",
    "#     # Need to reset index for loc to workBU\n",
    "#     df = df.reset_index()\n",
    "#     plt.figure(figsize = (10, 6))\n",
    "#     plt.style.use('fivethirtyeight')\n",
    "    \n",
    "#     # plot repaid loans\n",
    "#     sns.kdeplot(df.loc[df['TARGET'] == 0, feature], label = 'target == 0')\n",
    "#     # plot loans that were not repaid\n",
    "#     sns.kdeplot(df.loc[df['TARGET'] == 1, feature], label = 'target == 1')\n",
    "    \n",
    "#     # Label the plots\n",
    "#     plt.title('Distribution of Feature by Target Value')\n",
    "#     plt.xlabel('%s' % feature); plt.ylabel('Density');\n",
    "#     plt.show()\n",
    "\n",
    "# kde_target_plot(ds_features, feature = 'MIN(previous.SKEW(installments.NUM_INSTALMENT_VERSION))')"
   ]
  },
  {
   "cell_type": "code",
   "execution_count": 8,
   "metadata": {},
   "outputs": [
    {
     "name": "stdout",
     "output_type": "stream",
     "text": [
      "Training Shape:  (307511, 1491)\n",
      "Testing Shape:  (48744, 1490)\n"
     ]
    }
   ],
   "source": [
    "# Separate out the train and test sets\n",
    "train = ds_features[ds_features['set'] == 'train']\n",
    "test = ds_features[ds_features['set'] == 'test']\n",
    "\n",
    "# # One hot encoding\n",
    "# train = pd.get_dummies(train)\n",
    "# test = pd.get_dummies(test)\n",
    "\n",
    "# # Align dataframes on the columns\n",
    "# train, test = train.align(test, join = 'inner', axis = 1)\n",
    "train = train.drop(columns = ['set'])\n",
    "\n",
    "test = test.drop(columns = ['TARGET'])\n",
    "test = test.drop(columns = ['set'])\n",
    "\n",
    "print('Training Shape: ', train.shape)\n",
    "print('Testing Shape: ', test.shape)"
   ]
  },
  {
   "cell_type": "code",
   "execution_count": 9,
   "metadata": {},
   "outputs": [
    {
     "name": "stdout",
     "output_type": "stream",
     "text": [
      "ONE HOT ENCODED\n",
      "Training Features shape:  (307511, 1728)\n",
      "Testing Features shape:  (48744, 1699)\n",
      "ALIGNED:\n",
      "Training Features shape:  (307511, 1696)\n",
      "Testing Features shape:  (48744, 1695)\n",
      "There were 9274 anomalies in the test data out of 48744 entries\n",
      "REMOVING COLUMNS WITH 0.9 MISSING VALUES\n",
      "Training Features shape:  (307511, 577)\n",
      "Testing Features shape:  (48744, 1696)\n",
      "Training Features shape:  (307511, 577)\n",
      "Testing Features shape:  (48744, 576)\n"
     ]
    },
    {
     "data": {
      "image/png": "[encoded data removed]",
      "text/plain": [
       "<Figure size 432x288 with 1 Axes>"
      ]
     },
     "metadata": {},
     "output_type": "display_data"
    }
   ],
   "source": [
    "# do basic pre-processing\n",
    "def pre_process(train_data, test_data):\n",
    "#     train_data, test_data = encode_binary_cols(train_data, test_data) # purposefully left out - was taking too long\n",
    "    train_data, test_data = one_hot_encode(train_data, test_data)\n",
    "    train_data, test_data, train_Y = align_data(train_data, test_data)\n",
    "    train_data, test_data = remove_days_employed_anomaly(train_data, test_data)\n",
    "    \n",
    "    train_data, test_data = remove_missing_cols(train_data, test_data, thr=0.90)\n",
    "    \n",
    "    train_data = mean_impute(train_data)\n",
    "    test_data = mean_impute(test_data)\n",
    "\n",
    "    return train_data, test_data\n",
    "\n",
    "train_data, test_data = pre_process(train, test)"
   ]
  },
  {
   "cell_type": "code",
   "execution_count": 10,
   "metadata": {},
   "outputs": [
    {
     "name": "stdout",
     "output_type": "stream",
     "text": [
      "ALIGNED:\n",
      "Training Features shape:  (307511, 577)\n",
      "Testing Features shape:  (48744, 576)\n",
      "Training Data Shape:  (307511, 576)\n",
      "Testing Data Shape:  (48744, 576)\n"
     ]
    }
   ],
   "source": [
    "# Do final processing to get aligned train and test set with training labels \n",
    "train_X, test_X , train_Y= align_data(train_data, test_data)\n",
    "train_X = train_X.drop(columns=['TARGET'])\n",
    "feature_names = train_X.columns\n",
    "# train_X = train_X.drop(columns=['SK_ID_CURR'])\n",
    "# test_X = test_X.drop(columns=['SK_ID_CURR'])\n",
    "print('Training Data Shape: ', train_X.shape)\n",
    "print('Testing Data Shape: ', test_X.shape)\n",
    "feature_names = train_X.columns\n",
    "\n",
    "# train_X, train_Y = oversample(train_X, train_Y)\n",
    "# train_X, test_X = normalise(train_X, test_X)\n",
    "train_Y = train_Y.values # no need for sk_curr_id"
   ]
  },
  {
   "cell_type": "code",
   "execution_count": 11,
   "metadata": {},
   "outputs": [],
   "source": [
    "train_X = train_X.reset_index().drop(columns='SK_ID_CURR').values\n",
    "test_X = test_X.reset_index().drop(columns='SK_ID_CURR')"
   ]
  },
  {
   "cell_type": "code",
   "execution_count": 12,
   "metadata": {},
   "outputs": [
    {
     "name": "stderr",
     "output_type": "stream",
     "text": [
      "C:\\Users\\Bhumika\\Anaconda3\\lib\\site-packages\\sklearn\\svm\\base.py:922: ConvergenceWarning: Liblinear failed to converge, increase the number of iterations.\n",
      "  \"the number of iterations.\", ConvergenceWarning)\n",
      "C:\\Users\\Bhumika\\Anaconda3\\lib\\site-packages\\sklearn\\svm\\base.py:922: ConvergenceWarning: Liblinear failed to converge, increase the number of iterations.\n",
      "  \"the number of iterations.\", ConvergenceWarning)\n"
     ]
    },
    {
     "name": "stdout",
     "output_type": "stream",
     "text": [
      "Run 0 AUC socre: 0.580604627971613\n"
     ]
    },
    {
     "name": "stderr",
     "output_type": "stream",
     "text": [
      "C:\\Users\\Bhumika\\Anaconda3\\lib\\site-packages\\sklearn\\svm\\base.py:922: ConvergenceWarning: Liblinear failed to converge, increase the number of iterations.\n",
      "  \"the number of iterations.\", ConvergenceWarning)\n"
     ]
    },
    {
     "name": "stdout",
     "output_type": "stream",
     "text": [
      "Run 1 AUC socre: 0.5868803833282887\n"
     ]
    },
    {
     "name": "stderr",
     "output_type": "stream",
     "text": [
      "C:\\Users\\Bhumika\\Anaconda3\\lib\\site-packages\\sklearn\\svm\\base.py:922: ConvergenceWarning: Liblinear failed to converge, increase the number of iterations.\n",
      "  \"the number of iterations.\", ConvergenceWarning)\n"
     ]
    },
    {
     "name": "stdout",
     "output_type": "stream",
     "text": [
      "Run 2 AUC socre: 0.5867162837122049\n"
     ]
    },
    {
     "name": "stderr",
     "output_type": "stream",
     "text": [
      "C:\\Users\\Bhumika\\Anaconda3\\lib\\site-packages\\sklearn\\svm\\base.py:922: ConvergenceWarning: Liblinear failed to converge, increase the number of iterations.\n",
      "  \"the number of iterations.\", ConvergenceWarning)\n"
     ]
    },
    {
     "name": "stdout",
     "output_type": "stream",
     "text": [
      "Run 3 AUC socre: 0.5763320138875143\n"
     ]
    },
    {
     "name": "stderr",
     "output_type": "stream",
     "text": [
      "C:\\Users\\Bhumika\\Anaconda3\\lib\\site-packages\\sklearn\\svm\\base.py:922: ConvergenceWarning: Liblinear failed to converge, increase the number of iterations.\n",
      "  \"the number of iterations.\", ConvergenceWarning)\n"
     ]
    },
    {
     "name": "stdout",
     "output_type": "stream",
     "text": [
      "Run 4 AUC socre: 0.5903136739323253\n"
     ]
    },
    {
     "name": "stderr",
     "output_type": "stream",
     "text": [
      "C:\\Users\\Bhumika\\Anaconda3\\lib\\site-packages\\sklearn\\svm\\base.py:922: ConvergenceWarning: Liblinear failed to converge, increase the number of iterations.\n",
      "  \"the number of iterations.\", ConvergenceWarning)\n"
     ]
    },
    {
     "name": "stdout",
     "output_type": "stream",
     "text": [
      "Run 5 AUC socre: 0.5872924224169255\n",
      "Avg ROC AUC score: 0.584689900874812\n"
     ]
    },
    {
     "data": {
      "image/png": "[encoded data removed]",
      "text/plain": [
       "<Figure size 432x288 with 1 Axes>"
      ]
     },
     "metadata": {},
     "output_type": "display_data"
    }
   ],
   "source": [
    "model, predictions = baseline_log_reg(train_X, train_Y, test_X, save_path=None) # don't save model\n",
    "cross_val_roc_curve(train_X, train_Y, model)\n",
    "# create_and_save_submission(app_test, predictions, save_path='../test_predictions/test.csv')"
   ]
  },
  {
   "cell_type": "code",
   "execution_count": 13,
   "metadata": {},
   "outputs": [
    {
     "name": "stdout",
     "output_type": "stream",
     "text": [
      "Training Data Shape:  (307511, 576)\n",
      "Testing Data Shape:  (48744, 576)\n",
      "Training until validation scores don't improve for 100 rounds.\n",
      "[200]\tvalid's auc: 0.753415\tvalid's binary_logloss: 0.564642\ttrain's auc: 0.797156\ttrain's binary_logloss: 0.554211\n",
      "Early stopping, best iteration is:\n",
      "[186]\tvalid's auc: 0.753474\tvalid's binary_logloss: 0.565949\ttrain's auc: 0.794898\ttrain's binary_logloss: 0.556167\n",
      "File saved at  ../models/test.pickle\n",
      "Training until validation scores don't improve for 100 rounds.\n",
      "[200]\tvalid's auc: 0.757543\tvalid's binary_logloss: 0.564979\ttrain's auc: 0.79669\ttrain's binary_logloss: 0.55483\n",
      "[400]\tvalid's auc: 0.757781\tvalid's binary_logloss: 0.547795\ttrain's auc: 0.825532\ttrain's binary_logloss: 0.529142\n",
      "Early stopping, best iteration is:\n",
      "[340]\tvalid's auc: 0.757967\tvalid's binary_logloss: 0.552507\ttrain's auc: 0.817699\ttrain's binary_logloss: 0.536267\n",
      "File saved at  ../models/test.pickle\n",
      "Training until validation scores don't improve for 100 rounds.\n",
      "[200]\tvalid's auc: 0.76232\tvalid's binary_logloss: 0.565161\ttrain's auc: 0.795525\ttrain's binary_logloss: 0.555801\n",
      "Early stopping, best iteration is:\n",
      "[276]\tvalid's auc: 0.762556\tvalid's binary_logloss: 0.557909\ttrain's auc: 0.807779\ttrain's binary_logloss: 0.545361\n",
      "File saved at  ../models/test.pickle\n",
      "Training until validation scores don't improve for 100 rounds.\n",
      "[200]\tvalid's auc: 0.758195\tvalid's binary_logloss: 0.562825\ttrain's auc: 0.797442\ttrain's binary_logloss: 0.553958\n",
      "Early stopping, best iteration is:\n",
      "[209]\tvalid's auc: 0.758279\tvalid's binary_logloss: 0.561975\ttrain's auc: 0.79885\ttrain's binary_logloss: 0.552729\n",
      "File saved at  ../models/test.pickle\n",
      "Training until validation scores don't improve for 100 rounds.\n",
      "[200]\tvalid's auc: 0.758642\tvalid's binary_logloss: 0.565739\ttrain's auc: 0.796297\ttrain's binary_logloss: 0.554914\n",
      "Early stopping, best iteration is:\n",
      "[267]\tvalid's auc: 0.759145\tvalid's binary_logloss: 0.559568\ttrain's auc: 0.806695\ttrain's binary_logloss: 0.54576\n",
      "File saved at  ../models/test.pickle\n",
      "      fold     train     valid\n",
      "0        0  0.794898  0.753474\n",
      "1        1  0.817699  0.757967\n",
      "2        2  0.807779  0.762556\n",
      "3        3  0.798850  0.758279\n",
      "4        4  0.806695  0.759145\n",
      "5  overall  0.805184  0.758270\n"
     ]
    }
   ],
   "source": [
    "# lgbm model - overfits slightly on training \n",
    "\n",
    "test_Y, feature_importances, score_metrics = gbm_basic(train_X, train_Y, test_X, feature_names, \n",
    "        model_save_path='../models/test.pickle' ,n_folds=5)\n",
    "print(score_metrics)\n",
    "# create_and_save_submission(app_test, test_Y, save_path='../test_predictions/test.csv')"
   ]
  },
  {
   "cell_type": "code",
   "execution_count": 21,
   "metadata": {},
   "outputs": [
    {
     "data": {
      "image/png": "[encoded data removed]",
      "text/plain": [
       "<Figure size 1008x720 with 1 Axes>"
      ]
     },
     "metadata": {},
     "output_type": "display_data"
    }
   ],
   "source": [
    "fi = plot_feature_importances(feature_importances, n=15)"
   ]
  },
  {
   "cell_type": "code",
   "execution_count": 23,
   "metadata": {},
   "outputs": [
    {
     "name": "stdout",
     "output_type": "stream",
     "text": [
      "Predictions saved to:  ../test_predictions/test_dsf_lgbm.csv\n"
     ]
    }
   ],
   "source": [
    "create_and_save_submission(app_test, test_Y, save_path='../test_predictions/test_dsf_lgbm.csv')"
   ]
  },
  {
   "cell_type": "code",
   "execution_count": 45,
   "metadata": {},
   "outputs": [
    {
     "name": "stdout",
     "output_type": "stream",
     "text": [
      "DAYS_INSTALMENT (0,)\n",
      "DAYS_ENTRY_PAYMENT (0,)\n"
     ]
    }
   ],
   "source": [
    "# just in app_train, app_test and previous\n",
    "df = installments\n",
    "for col in df.columns:\n",
    "    if \"DAYS\" in col:\n",
    "        print(col, df[col][df[col]== 365243].shape)"
   ]
  }
 ],
 "metadata": {
  "kernelspec": {
   "display_name": "Python 3",
   "language": "python",
   "name": "python3"
  },
  "language_info": {
   "codemirror_mode": {
    "name": "ipython",
    "version": 3
   },
   "file_extension": ".py",
   "mimetype": "text/x-python",
   "name": "python",
   "nbconvert_exporter": "python",
   "pygments_lexer": "ipython3",
   "version": "3.7.2"
  }
 },
 "nbformat": 4,
 "nbformat_minor": 2
}
