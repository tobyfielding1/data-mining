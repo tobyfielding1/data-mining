{
 "cells": [
  {
   "cell_type": "code",
   "execution_count": 1,
   "metadata": {},
   "outputs": [],
   "source": [
    "# imports\n",
    "import models\n",
    "import utils\n",
    "import pandas as pd\n",
    "\n",
    "import numpy as np\n",
    "\n",
    "from sklearn.preprocessing import MinMaxScaler, Imputer"
   ]
  },
  {
   "cell_type": "code",
   "execution_count": 20,
   "metadata": {},
   "outputs": [
    {
     "name": "stdout",
     "output_type": "stream",
     "text": [
      "(307511, 608)\n",
      "(48744, 607)\n"
     ]
    }
   ],
   "source": [
    "train_data = utils.load_pickle(\"./final_features_train2.pkl\")\n",
    "test_data = utils.load_pickle(\"./final_features_test2.pkl\")\n",
    "print(train_data.shape)\n",
    "print(test_data.shape)"
   ]
  },
  {
   "cell_type": "code",
   "execution_count": 21,
   "metadata": {},
   "outputs": [],
   "source": [
    "train_Y = utils.get_train_labels(train_data)\n",
    "train_ids = train_data[['SK_ID_CURR']]\n",
    "test_ids = test_data[['SK_ID_CURR']]"
   ]
  },
  {
   "cell_type": "code",
   "execution_count": 22,
   "metadata": {},
   "outputs": [],
   "source": [
    "train_data.drop(columns=['SK_ID_CURR'], inplace=True)\n",
    "train_data.drop(columns=['TARGET'], inplace=True)\n",
    "test_data.drop(columns=['SK_ID_CURR'], inplace= True)\n",
    "\n",
    "train_X = train_data.values\n",
    "test_X = test_data.values\n",
    "feature_names = train_data.columns # required to create feature importances\n",
    "\n",
    "# Cleaning dataframes of overflow values\n",
    "train_X[np.where(train_X >= np.finfo(np.float64).max)] = np.nan\n",
    "test_X[np.where(test_X >= np.finfo(np.float64).max)] = np.nan\n",
    "\n",
    "# Median imputation of missing values\n",
    "imputer = Imputer(strategy = 'median')\n",
    "\n",
    "imputer.fit(train_X)\n",
    "\n",
    "train_X = imputer.transform(train_X)\n",
    "test_X = imputer.transform(test_X)\n",
    "\n",
    "\n",
    "# Scale each feature to 0-1\n",
    "scaler = MinMaxScaler(feature_range = (0, 1))\n",
    "\n",
    "scaler.fit(train_X)\n",
    "\n",
    "train_X = scaler.transform(train_X)\n",
    "test_X = scaler.transform(test_X)"
   ]
  },
  {
   "cell_type": "code",
   "execution_count": 29,
   "metadata": {},
   "outputs": [
    {
     "name": "stdout",
     "output_type": "stream",
     "text": [
      "File saved at  finaltrain.pkl\n",
      "File saved at  finaltest.pkl\n"
     ]
    }
   ],
   "source": [
    "# train_X = pd.DataFrame(train_X)\n",
    "# train_X = pd.concat([train_ids, train_Y, train_X], axis=1)\n",
    "# test_X = pd.DataFrame(test_X)\n",
    "# test_X = pd.concat([test_ids, test_X], axis=1)\n",
    "# utils.save_pickle(\"finaltrain.pkl\", train_X)\n",
    "# utils.save_pickle(\"finaltest.pkl\", test_X)"
   ]
  },
  {
   "cell_type": "code",
   "execution_count": 30,
   "metadata": {},
   "outputs": [],
   "source": [
    "train_X.drop(columns=['SK_ID_CURR'], inplace=True)\n",
    "train_X.drop(columns=['TARGET'], inplace=True)\n",
    "test_X.drop(columns=['SK_ID_CURR'], inplace= True)"
   ]
  },
  {
   "cell_type": "code",
   "execution_count": null,
   "metadata": {},
   "outputs": [],
   "source": [
    "# convert from dataframes to arrays\n",
    "# get train labels and test ids\n",
    "feature_names = train_data.columns # required to create feature importances\n",
    "train_X = train_X.values\n",
    "test_X = test_X.values"
   ]
  },
  {
   "cell_type": "code",
   "execution_count": 33,
   "metadata": {},
   "outputs": [
    {
     "name": "stdout",
     "output_type": "stream",
     "text": [
      "Training Data Shape:  (307511, 606)\n",
      "Testing Data Shape:  (48744, 606)\n",
      "Training until validation scores don't improve for 100 rounds.\n",
      "[200]\ttrain's auc: 0.830269\ttrain's binary_logloss: 0.514133\tvalid's auc: 0.782059\tvalid's binary_logloss: 0.533941\n",
      "Early stopping, best iteration is:\n",
      "[282]\ttrain's auc: 0.847352\ttrain's binary_logloss: 0.495114\tvalid's auc: 0.783017\tvalid's binary_logloss: 0.521844\n",
      "Training until validation scores don't improve for 100 rounds.\n",
      "[200]\ttrain's auc: 0.831233\ttrain's binary_logloss: 0.512977\tvalid's auc: 0.779384\tvalid's binary_logloss: 0.533948\n",
      "[400]\ttrain's auc: 0.868313\ttrain's binary_logloss: 0.471264\tvalid's auc: 0.780495\tvalid's binary_logloss: 0.507764\n",
      "Early stopping, best iteration is:\n",
      "[409]\ttrain's auc: 0.869816\ttrain's binary_logloss: 0.469533\tvalid's auc: 0.780618\tvalid's binary_logloss: 0.506629\n",
      "Training until validation scores don't improve for 100 rounds.\n",
      "[200]\ttrain's auc: 0.830263\ttrain's binary_logloss: 0.514243\tvalid's auc: 0.783614\tvalid's binary_logloss: 0.534953\n",
      "[400]\ttrain's auc: 0.868447\ttrain's binary_logloss: 0.471675\tvalid's auc: 0.784945\tvalid's binary_logloss: 0.507857\n",
      "Early stopping, best iteration is:\n",
      "[412]\ttrain's auc: 0.870411\ttrain's binary_logloss: 0.469435\tvalid's auc: 0.785172\tvalid's binary_logloss: 0.506302\n",
      "Training until validation scores don't improve for 100 rounds.\n",
      "[200]\ttrain's auc: 0.830115\ttrain's binary_logloss: 0.514409\tvalid's auc: 0.782963\tvalid's binary_logloss: 0.534335\n",
      "[400]\ttrain's auc: 0.867618\ttrain's binary_logloss: 0.472224\tvalid's auc: 0.783157\tvalid's binary_logloss: 0.508115\n",
      "Early stopping, best iteration is:\n",
      "[313]\ttrain's auc: 0.85302\ttrain's binary_logloss: 0.488842\tvalid's auc: 0.783829\tvalid's binary_logloss: 0.51846\n",
      "Training until validation scores don't improve for 100 rounds.\n",
      "[200]\ttrain's auc: 0.830858\ttrain's binary_logloss: 0.513508\tvalid's auc: 0.781761\tvalid's binary_logloss: 0.534874\n",
      "[400]\ttrain's auc: 0.86824\ttrain's binary_logloss: 0.471763\tvalid's auc: 0.782299\tvalid's binary_logloss: 0.509053\n",
      "Early stopping, best iteration is:\n",
      "[309]\ttrain's auc: 0.852939\ttrain's binary_logloss: 0.489171\tvalid's auc: 0.782638\tvalid's binary_logloss: 0.519715\n",
      "Predictions saved to:  ../test_predictions/lgbm_simple.csv\n"
     ]
    }
   ],
   "source": [
    "model, predictions, feature_importances, metrics = models.gbm_basic(train_X, train_Y, test_X, feature_names)\n",
    "utils.create_and_save_submission(test_ids, predictions, save_path='../test_predictions/lgbm_simple.csv')"
   ]
  },
  {
   "cell_type": "code",
   "execution_count": 34,
   "metadata": {},
   "outputs": [
    {
     "name": "stdout",
     "output_type": "stream",
     "text": [
      "      fold     train     valid\n",
      "0        0  0.847352  0.783017\n",
      "1        1  0.869816  0.780618\n",
      "2        2  0.870411  0.785172\n",
      "3        3  0.853020  0.783829\n",
      "4        4  0.852939  0.782638\n",
      "5  overall  0.858707  0.783001\n"
     ]
    }
   ],
   "source": [
    "print(metrics)"
   ]
  },
  {
   "cell_type": "code",
   "execution_count": null,
   "metadata": {},
   "outputs": [
    {
     "name": "stderr",
     "output_type": "stream",
     "text": [
      "\n",
      "  0%|          | 0/100 [00:00<?, ?it/s]\u001b[A\n",
      "  1%|          | 1/100 [13:00<21:27:40, 780.41s/it]\u001b[A"
     ]
    },
    {
     "name": "stdout",
     "output_type": "stream",
     "text": [
      "fs\n"
     ]
    },
    {
     "name": "stderr",
     "output_type": "stream",
     "text": [
      "\n",
      "  2%|▏         | 2/100 [13:34<15:08:52, 556.46s/it]\u001b[A"
     ]
    },
    {
     "name": "stdout",
     "output_type": "stream",
     "text": [
      "fs\n"
     ]
    },
    {
     "name": "stderr",
     "output_type": "stream",
     "text": [
      "\n",
      "  3%|▎         | 3/100 [14:17<10:50:28, 402.35s/it]\u001b[A"
     ]
    },
    {
     "name": "stdout",
     "output_type": "stream",
     "text": [
      "fs\n"
     ]
    },
    {
     "name": "stderr",
     "output_type": "stream",
     "text": [
      "\n",
      "  4%|▍         | 4/100 [14:20<7:32:08, 282.59s/it] \u001b[A"
     ]
    },
    {
     "name": "stdout",
     "output_type": "stream",
     "text": [
      "fs\n"
     ]
    },
    {
     "name": "stderr",
     "output_type": "stream",
     "text": [
      "\n",
      "  5%|▌         | 5/100 [14:22<5:14:26, 198.60s/it]\u001b[A"
     ]
    },
    {
     "name": "stdout",
     "output_type": "stream",
     "text": [
      "fs\n"
     ]
    },
    {
     "name": "stderr",
     "output_type": "stream",
     "text": [
      "\n",
      "  6%|▌         | 6/100 [33:17<12:31:14, 479.51s/it]\u001b[A"
     ]
    },
    {
     "name": "stdout",
     "output_type": "stream",
     "text": [
      "fs\n"
     ]
    },
    {
     "name": "stderr",
     "output_type": "stream",
     "text": [
      "\n",
      "  7%|▋         | 7/100 [39:00<11:19:49, 438.59s/it]\u001b[A"
     ]
    },
    {
     "name": "stdout",
     "output_type": "stream",
     "text": [
      "fs\n"
     ]
    }
   ],
   "source": [
    "import imp; imp.reload(models); imp.reload(utils)\n",
    "model, predictions, feature_importances, metrics = models.gbm_random_search(train_X, train_Y, test_X, feature_names, samples=30000, max_evals=100)"
   ]
  },
  {
   "cell_type": "code",
   "execution_count": 35,
   "metadata": {},
   "outputs": [],
   "source": [
    "# This set of parameters is equivalent to the one obove and it was found after running \"gbm_random_search\"\n",
    "hyperparams = {'is_unbalance': False,\n",
    "'n_estimators': 2673,\n",
    "'num_leaves': 77,\n",
    "'learning_rate': 0.007641070180129345,\n",
    "'min_child_samples': 460,\n",
    "'boosting_type': 'gbdt',\n",
    "'subsample_for_bin': 240000,\n",
    "'reg_lambda': 0.2040816326530612,\n",
    "'reg_alpha': 0.8775510204081632,\n",
    "'subsample': 0.9494949494949496,\n",
    "'colsample_bytree': 0.7333333333333333}"
   ]
  },
  {
   "cell_type": "code",
   "execution_count": 36,
   "metadata": {},
   "outputs": [
    {
     "name": "stdout",
     "output_type": "stream",
     "text": [
      "Training Data Shape:  (307511, 606)\n",
      "Testing Data Shape:  (48744, 606)\n",
      "Training until validation scores don't improve for 100 rounds.\n",
      "[200]\ttrain's auc: 0.786262\ttrain's binary_logloss: 0.242407\tvalid's auc: 0.760017\tvalid's binary_logloss: 0.246512\n",
      "[400]\ttrain's auc: 0.810863\ttrain's binary_logloss: 0.23096\tvalid's auc: 0.771527\tvalid's binary_logloss: 0.240742\n",
      "[600]\ttrain's auc: 0.829953\ttrain's binary_logloss: 0.223031\tvalid's auc: 0.778639\tvalid's binary_logloss: 0.238077\n",
      "[800]\ttrain's auc: 0.845841\ttrain's binary_logloss: 0.216482\tvalid's auc: 0.782239\tvalid's binary_logloss: 0.236735\n",
      "[1000]\ttrain's auc: 0.860079\ttrain's binary_logloss: 0.210679\tvalid's auc: 0.784238\tvalid's binary_logloss: 0.235997\n",
      "[1200]\ttrain's auc: 0.872447\ttrain's binary_logloss: 0.205475\tvalid's auc: 0.7854\tvalid's binary_logloss: 0.23555\n",
      "[1400]\ttrain's auc: 0.883423\ttrain's binary_logloss: 0.200746\tvalid's auc: 0.786142\tvalid's binary_logloss: 0.235284\n",
      "[1600]\ttrain's auc: 0.89331\ttrain's binary_logloss: 0.196345\tvalid's auc: 0.786472\tvalid's binary_logloss: 0.235155\n",
      "[1800]\ttrain's auc: 0.902453\ttrain's binary_logloss: 0.192135\tvalid's auc: 0.7867\tvalid's binary_logloss: 0.235062\n",
      "[2000]\ttrain's auc: 0.91086\ttrain's binary_logloss: 0.188121\tvalid's auc: 0.786876\tvalid's binary_logloss: 0.235024\n",
      "[2200]\ttrain's auc: 0.918408\ttrain's binary_logloss: 0.184275\tvalid's auc: 0.786929\tvalid's binary_logloss: 0.234996\n",
      "Early stopping, best iteration is:\n",
      "[2134]\ttrain's auc: 0.915992\ttrain's binary_logloss: 0.185526\tvalid's auc: 0.786949\tvalid's binary_logloss: 0.234993\n",
      "Training until validation scores don't improve for 100 rounds.\n",
      "[200]\ttrain's auc: 0.787237\ttrain's binary_logloss: 0.241752\tvalid's auc: 0.757733\tvalid's binary_logloss: 0.248771\n",
      "[400]\ttrain's auc: 0.811609\ttrain's binary_logloss: 0.230345\tvalid's auc: 0.769518\tvalid's binary_logloss: 0.242935\n",
      "[600]\ttrain's auc: 0.83061\ttrain's binary_logloss: 0.222342\tvalid's auc: 0.776334\tvalid's binary_logloss: 0.240384\n",
      "[800]\ttrain's auc: 0.846346\ttrain's binary_logloss: 0.215783\tvalid's auc: 0.779788\tvalid's binary_logloss: 0.239166\n",
      "[1000]\ttrain's auc: 0.86025\ttrain's binary_logloss: 0.210057\tvalid's auc: 0.781589\tvalid's binary_logloss: 0.238519\n",
      "[1200]\ttrain's auc: 0.872816\ttrain's binary_logloss: 0.204837\tvalid's auc: 0.782625\tvalid's binary_logloss: 0.238177\n",
      "[1400]\ttrain's auc: 0.883744\ttrain's binary_logloss: 0.200132\tvalid's auc: 0.783149\tvalid's binary_logloss: 0.237997\n",
      "[1600]\ttrain's auc: 0.893694\ttrain's binary_logloss: 0.195732\tvalid's auc: 0.783439\tvalid's binary_logloss: 0.2379\n",
      "[1800]\ttrain's auc: 0.902692\ttrain's binary_logloss: 0.191572\tvalid's auc: 0.783485\tvalid's binary_logloss: 0.237889\n",
      "Early stopping, best iteration is:\n",
      "[1700]\ttrain's auc: 0.898426\ttrain's binary_logloss: 0.193607\tvalid's auc: 0.783576\tvalid's binary_logloss: 0.23787\n",
      "Training until validation scores don't improve for 100 rounds.\n",
      "[200]\ttrain's auc: 0.786097\ttrain's binary_logloss: 0.241873\tvalid's auc: 0.764217\tvalid's binary_logloss: 0.248531\n",
      "[400]\ttrain's auc: 0.810993\ttrain's binary_logloss: 0.230456\tvalid's auc: 0.774828\tvalid's binary_logloss: 0.242511\n",
      "[600]\ttrain's auc: 0.829973\ttrain's binary_logloss: 0.222548\tvalid's auc: 0.781029\tvalid's binary_logloss: 0.23985\n",
      "[800]\ttrain's auc: 0.845725\ttrain's binary_logloss: 0.216063\tvalid's auc: 0.784588\tvalid's binary_logloss: 0.238412\n",
      "[1000]\ttrain's auc: 0.859844\ttrain's binary_logloss: 0.210257\tvalid's auc: 0.78696\tvalid's binary_logloss: 0.237501\n",
      "[1200]\ttrain's auc: 0.872334\ttrain's binary_logloss: 0.205073\tvalid's auc: 0.788249\tvalid's binary_logloss: 0.237011\n",
      "[1400]\ttrain's auc: 0.883318\ttrain's binary_logloss: 0.20038\tvalid's auc: 0.788742\tvalid's binary_logloss: 0.236792\n",
      "[1600]\ttrain's auc: 0.893172\ttrain's binary_logloss: 0.196018\tvalid's auc: 0.788983\tvalid's binary_logloss: 0.236676\n",
      "Early stopping, best iteration is:\n",
      "[1666]\ttrain's auc: 0.896294\ttrain's binary_logloss: 0.194616\tvalid's auc: 0.789087\tvalid's binary_logloss: 0.236644\n",
      "Training until validation scores don't improve for 100 rounds.\n",
      "[200]\ttrain's auc: 0.786399\ttrain's binary_logloss: 0.242181\tvalid's auc: 0.760431\tvalid's binary_logloss: 0.247262\n",
      "[400]\ttrain's auc: 0.81076\ttrain's binary_logloss: 0.230799\tvalid's auc: 0.772577\tvalid's binary_logloss: 0.241263\n",
      "[600]\ttrain's auc: 0.829653\ttrain's binary_logloss: 0.222865\tvalid's auc: 0.77986\tvalid's binary_logloss: 0.238536\n",
      "[800]\ttrain's auc: 0.845444\ttrain's binary_logloss: 0.216343\tvalid's auc: 0.78365\tvalid's binary_logloss: 0.237138\n",
      "[1000]\ttrain's auc: 0.859463\ttrain's binary_logloss: 0.210619\tvalid's auc: 0.78559\tvalid's binary_logloss: 0.236411\n",
      "[1200]\ttrain's auc: 0.871824\ttrain's binary_logloss: 0.205475\tvalid's auc: 0.78662\tvalid's binary_logloss: 0.236009\n",
      "[1400]\ttrain's auc: 0.8827\ttrain's binary_logloss: 0.200765\tvalid's auc: 0.787329\tvalid's binary_logloss: 0.23575\n",
      "[1600]\ttrain's auc: 0.892809\ttrain's binary_logloss: 0.196364\tvalid's auc: 0.7879\tvalid's binary_logloss: 0.235577\n",
      "[1800]\ttrain's auc: 0.902064\ttrain's binary_logloss: 0.19217\tvalid's auc: 0.788156\tvalid's binary_logloss: 0.235476\n",
      "[2000]\ttrain's auc: 0.910539\ttrain's binary_logloss: 0.188179\tvalid's auc: 0.788297\tvalid's binary_logloss: 0.235434\n",
      "[2200]\ttrain's auc: 0.918242\ttrain's binary_logloss: 0.184333\tvalid's auc: 0.788417\tvalid's binary_logloss: 0.23541\n",
      "Early stopping, best iteration is:\n",
      "[2147]\ttrain's auc: 0.916229\ttrain's binary_logloss: 0.185347\tvalid's auc: 0.788463\tvalid's binary_logloss: 0.235396\n",
      "Training until validation scores don't improve for 100 rounds.\n",
      "[200]\ttrain's auc: 0.786985\ttrain's binary_logloss: 0.241061\tvalid's auc: 0.758878\tvalid's binary_logloss: 0.251772\n",
      "[400]\ttrain's auc: 0.811575\ttrain's binary_logloss: 0.229615\tvalid's auc: 0.769852\tvalid's binary_logloss: 0.245877\n",
      "[600]\ttrain's auc: 0.830484\ttrain's binary_logloss: 0.221674\tvalid's auc: 0.776726\tvalid's binary_logloss: 0.243238\n",
      "[800]\ttrain's auc: 0.84616\ttrain's binary_logloss: 0.215221\tvalid's auc: 0.78008\tvalid's binary_logloss: 0.241977\n",
      "[1000]\ttrain's auc: 0.860337\ttrain's binary_logloss: 0.209481\tvalid's auc: 0.782168\tvalid's binary_logloss: 0.241267\n",
      "[1200]\ttrain's auc: 0.872821\ttrain's binary_logloss: 0.204361\tvalid's auc: 0.783128\tvalid's binary_logloss: 0.240897\n",
      "[1400]\ttrain's auc: 0.88406\ttrain's binary_logloss: 0.199631\tvalid's auc: 0.783523\tvalid's binary_logloss: 0.240715\n",
      "[1600]\ttrain's auc: 0.89432\ttrain's binary_logloss: 0.195184\tvalid's auc: 0.783917\tvalid's binary_logloss: 0.240575\n",
      "[1800]\ttrain's auc: 0.903741\ttrain's binary_logloss: 0.190936\tvalid's auc: 0.784079\tvalid's binary_logloss: 0.240524\n",
      "[2000]\ttrain's auc: 0.912201\ttrain's binary_logloss: 0.186914\tvalid's auc: 0.784298\tvalid's binary_logloss: 0.240458\n",
      "[2200]\ttrain's auc: 0.919784\ttrain's binary_logloss: 0.183075\tvalid's auc: 0.784353\tvalid's binary_logloss: 0.24044\n",
      "Early stopping, best iteration is:\n",
      "[2179]\ttrain's auc: 0.919041\ttrain's binary_logloss: 0.183471\tvalid's auc: 0.784381\tvalid's binary_logloss: 0.24043\n",
      "Predictions saved to:  ../test_predictions/lgbm_random_tuned_bayes.csv\n"
     ]
    }
   ],
   "source": [
    "import imp; imp.reload(models)\n",
    "model, predictions, feature_importances, metrics = models.gbm_with_params(train_X, train_Y, test_X, feature_names, hyperparams)\n",
    "utils.create_and_save_submission(test_ids, predictions, save_path='../test_predictions/lgbm_random_tuned_bayes.csv')"
   ]
  },
  {
   "cell_type": "code",
   "execution_count": 37,
   "metadata": {},
   "outputs": [
    {
     "name": "stdout",
     "output_type": "stream",
     "text": [
      "      fold     train     valid\n",
      "0        0  0.915992  0.786949\n",
      "1        1  0.898426  0.783576\n",
      "2        2  0.896294  0.789087\n",
      "3        3  0.916229  0.788463\n",
      "4        4  0.919041  0.784381\n",
      "5  overall  0.909196  0.786465\n"
     ]
    }
   ],
   "source": [
    "print(metrics)"
   ]
  },
  {
   "cell_type": "code",
   "execution_count": 38,
   "metadata": {},
   "outputs": [],
   "source": [
    "# This set of parameters was found through Bayesian optimization from https://www.kaggle.com/jsaguiar/updated-0-792-lb-lightgbm-with-simple-features\n",
    "bayesian_params = {\n",
    "        'n_estimators': 1327,\n",
    "        'learning_rate': 0.02,\n",
    "        'num_leaves': 34,\n",
    "        'colsample_bytree': 0.9497036,\n",
    "        'subsample': 0.8715623,\n",
    "        'max_depth': 8,\n",
    "        'reg_alpha': 0.041545473,\n",
    "        'reg_lambda': 0.0735294,\n",
    "        'min_split_gain': 0.0222415,\n",
    "        'min_child_weight': 39.3259775,\n",
    "        'silent': -1,\n",
    "        'verbose': -1}"
   ]
  },
  {
   "cell_type": "code",
   "execution_count": 39,
   "metadata": {},
   "outputs": [
    {
     "name": "stdout",
     "output_type": "stream",
     "text": [
      "Training Data Shape:  (307511, 606)\n",
      "Testing Data Shape:  (48744, 606)\n",
      "Training until validation scores don't improve for 100 rounds.\n",
      "[200]\ttrain's auc: 0.794907\ttrain's binary_logloss: 0.235526\tvalid's auc: 0.772531\tvalid's binary_logloss: 0.240284\n",
      "[400]\ttrain's auc: 0.818277\ttrain's binary_logloss: 0.226195\tvalid's auc: 0.781837\tvalid's binary_logloss: 0.236899\n",
      "[600]\ttrain's auc: 0.834087\ttrain's binary_logloss: 0.219911\tvalid's auc: 0.784936\tvalid's binary_logloss: 0.235777\n",
      "[800]\ttrain's auc: 0.846892\ttrain's binary_logloss: 0.214738\tvalid's auc: 0.786169\tvalid's binary_logloss: 0.235345\n",
      "[1000]\ttrain's auc: 0.857774\ttrain's binary_logloss: 0.210162\tvalid's auc: 0.78677\tvalid's binary_logloss: 0.235131\n",
      "Early stopping, best iteration is:\n",
      "[1057]\ttrain's auc: 0.860719\ttrain's binary_logloss: 0.208916\tvalid's auc: 0.786952\tvalid's binary_logloss: 0.235081\n",
      "Training until validation scores don't improve for 100 rounds.\n",
      "[200]\ttrain's auc: 0.795561\ttrain's binary_logloss: 0.23492\tvalid's auc: 0.769682\tvalid's binary_logloss: 0.242762\n",
      "[400]\ttrain's auc: 0.819189\ttrain's binary_logloss: 0.225419\tvalid's auc: 0.778616\tvalid's binary_logloss: 0.239521\n",
      "[600]\ttrain's auc: 0.835243\ttrain's binary_logloss: 0.219016\tvalid's auc: 0.78155\tvalid's binary_logloss: 0.238535\n",
      "[800]\ttrain's auc: 0.847528\ttrain's binary_logloss: 0.21403\tvalid's auc: 0.782588\tvalid's binary_logloss: 0.238177\n",
      "[1000]\ttrain's auc: 0.858674\ttrain's binary_logloss: 0.209416\tvalid's auc: 0.782687\tvalid's binary_logloss: 0.238129\n",
      "Early stopping, best iteration is:\n",
      "[1027]\ttrain's auc: 0.860115\ttrain's binary_logloss: 0.208793\tvalid's auc: 0.782791\tvalid's binary_logloss: 0.238092\n",
      "Training until validation scores don't improve for 100 rounds.\n",
      "[200]\ttrain's auc: 0.794817\ttrain's binary_logloss: 0.235055\tvalid's auc: 0.774399\tvalid's binary_logloss: 0.242419\n",
      "[400]\ttrain's auc: 0.818138\ttrain's binary_logloss: 0.225689\tvalid's auc: 0.783541\tvalid's binary_logloss: 0.238787\n",
      "[600]\ttrain's auc: 0.83462\ttrain's binary_logloss: 0.219133\tvalid's auc: 0.786862\tvalid's binary_logloss: 0.23754\n",
      "[800]\ttrain's auc: 0.847457\ttrain's binary_logloss: 0.21391\tvalid's auc: 0.78794\tvalid's binary_logloss: 0.237146\n",
      "Early stopping, best iteration is:\n",
      "[892]\ttrain's auc: 0.852945\ttrain's binary_logloss: 0.211673\tvalid's auc: 0.788298\tvalid's binary_logloss: 0.237008\n",
      "Training until validation scores don't improve for 100 rounds.\n",
      "[200]\ttrain's auc: 0.794797\ttrain's binary_logloss: 0.235389\tvalid's auc: 0.772316\tvalid's binary_logloss: 0.241135\n",
      "[400]\ttrain's auc: 0.817975\ttrain's binary_logloss: 0.226031\tvalid's auc: 0.781746\tvalid's binary_logloss: 0.237712\n",
      "[600]\ttrain's auc: 0.834086\ttrain's binary_logloss: 0.21963\tvalid's auc: 0.784868\tvalid's binary_logloss: 0.236661\n",
      "[800]\ttrain's auc: 0.846702\ttrain's binary_logloss: 0.214574\tvalid's auc: 0.78617\tvalid's binary_logloss: 0.236197\n",
      "[1000]\ttrain's auc: 0.857391\ttrain's binary_logloss: 0.210114\tvalid's auc: 0.78697\tvalid's binary_logloss: 0.235966\n",
      "[1200]\ttrain's auc: 0.867311\ttrain's binary_logloss: 0.20588\tvalid's auc: 0.787251\tvalid's binary_logloss: 0.235859\n",
      "Did not meet early stopping. Best iteration is:\n",
      "[1327]\ttrain's auc: 0.872976\ttrain's binary_logloss: 0.203425\tvalid's auc: 0.78731\tvalid's binary_logloss: 0.235849\n",
      "Training until validation scores don't improve for 100 rounds.\n",
      "[200]\ttrain's auc: 0.795111\ttrain's binary_logloss: 0.234292\tvalid's auc: 0.770652\tvalid's binary_logloss: 0.245627\n",
      "[400]\ttrain's auc: 0.818758\ttrain's binary_logloss: 0.224986\tvalid's auc: 0.779675\tvalid's binary_logloss: 0.242298\n",
      "[600]\ttrain's auc: 0.834505\ttrain's binary_logloss: 0.21873\tvalid's auc: 0.782572\tvalid's binary_logloss: 0.241292\n",
      "[800]\ttrain's auc: 0.847309\ttrain's binary_logloss: 0.213615\tvalid's auc: 0.783813\tvalid's binary_logloss: 0.240863\n",
      "[1000]\ttrain's auc: 0.85874\ttrain's binary_logloss: 0.208933\tvalid's auc: 0.784375\tvalid's binary_logloss: 0.240671\n",
      "[1200]\ttrain's auc: 0.868828\ttrain's binary_logloss: 0.204633\tvalid's auc: 0.78448\tvalid's binary_logloss: 0.240627\n",
      "Early stopping, best iteration is:\n",
      "[1179]\ttrain's auc: 0.867749\ttrain's binary_logloss: 0.20508\tvalid's auc: 0.784546\tvalid's binary_logloss: 0.240611\n"
     ]
    }
   ],
   "source": [
    "model, predictions, feature_importances, metrics = models.gbm_with_params(train_X, train_Y, test_X, feature_names, bayesian_params)"
   ]
  },
  {
   "cell_type": "code",
   "execution_count": 41,
   "metadata": {},
   "outputs": [
    {
     "name": "stdout",
     "output_type": "stream",
     "text": [
      "Predictions saved to:  ../test_predictions/lgbm_first_tuned_bayes.csv\n"
     ]
    }
   ],
   "source": [
    "utils.create_and_save_submission(test_ids, predictions, save_path='../test_predictions/lgbm_first_tuned_bayes.csv')"
   ]
  },
  {
   "cell_type": "code",
   "execution_count": 40,
   "metadata": {},
   "outputs": [
    {
     "name": "stdout",
     "output_type": "stream",
     "text": [
      "      fold     train     valid\n",
      "0        0  0.860719  0.786952\n",
      "1        1  0.860115  0.782791\n",
      "2        2  0.852945  0.788298\n",
      "3        3  0.872976  0.787310\n",
      "4        4  0.867749  0.784546\n",
      "5  overall  0.862901  0.785958\n"
     ]
    }
   ],
   "source": [
    "print(metrics)"
   ]
  },
  {
   "cell_type": "code",
   "execution_count": 42,
   "metadata": {},
   "outputs": [],
   "source": [
    "# Hyperparams from model tuning with Bayesian Optimization\n",
    "own_bayes = {\n",
    "    \"is_unbalance\": False,\n",
    "    \"n_estimators\": 1327,\n",
    "    \"num_leaves\": 106,\n",
    "    \"learning_rate\": 0.0126346500398102,\n",
    "    'min_child_samples': 390,\n",
    "    'boosting_type': 'gbdt',\n",
    "    'subsample_for_bin': 80000,\n",
    "    'reg_lambda': 0.38268769901820565,\n",
    "    'reg_alpha': 0.5129992714397862,\n",
    "    'subsample': 0.7177561548329953,\n",
    "    'colsample_bytree': 0.6149378064887835\n",
    "}"
   ]
  },
  {
   "cell_type": "code",
   "execution_count": 43,
   "metadata": {},
   "outputs": [
    {
     "name": "stdout",
     "output_type": "stream",
     "text": [
      "Training Data Shape:  (307511, 606)\n",
      "Testing Data Shape:  (48744, 606)\n",
      "Training until validation scores don't improve for 100 rounds.\n",
      "[200]\ttrain's auc: 0.815527\ttrain's binary_logloss: 0.230407\tvalid's auc: 0.769971\tvalid's binary_logloss: 0.24155\n",
      "[400]\ttrain's auc: 0.852788\ttrain's binary_logloss: 0.214294\tvalid's auc: 0.781388\tvalid's binary_logloss: 0.237129\n",
      "[600]\ttrain's auc: 0.881863\ttrain's binary_logloss: 0.20181\tvalid's auc: 0.784952\tvalid's binary_logloss: 0.235769\n",
      "[800]\ttrain's auc: 0.905048\ttrain's binary_logloss: 0.191259\tvalid's auc: 0.786276\tvalid's binary_logloss: 0.235268\n",
      "[1000]\ttrain's auc: 0.923375\ttrain's binary_logloss: 0.182021\tvalid's auc: 0.786832\tvalid's binary_logloss: 0.235117\n",
      "Early stopping, best iteration is:\n",
      "[1096]\ttrain's auc: 0.931016\ttrain's binary_logloss: 0.177866\tvalid's auc: 0.787033\tvalid's binary_logloss: 0.235059\n",
      "Training until validation scores don't improve for 100 rounds.\n",
      "[200]\ttrain's auc: 0.816101\ttrain's binary_logloss: 0.229823\tvalid's auc: 0.767363\tvalid's binary_logloss: 0.243917\n",
      "[400]\ttrain's auc: 0.853174\ttrain's binary_logloss: 0.213634\tvalid's auc: 0.777844\tvalid's binary_logloss: 0.239767\n",
      "[600]\ttrain's auc: 0.881928\ttrain's binary_logloss: 0.201167\tvalid's auc: 0.781767\tvalid's binary_logloss: 0.238404\n",
      "[800]\ttrain's auc: 0.905268\ttrain's binary_logloss: 0.190608\tvalid's auc: 0.783096\tvalid's binary_logloss: 0.237994\n",
      "[1000]\ttrain's auc: 0.923506\ttrain's binary_logloss: 0.181426\tvalid's auc: 0.783589\tvalid's binary_logloss: 0.237842\n",
      "Early stopping, best iteration is:\n",
      "[1011]\ttrain's auc: 0.924463\ttrain's binary_logloss: 0.180935\tvalid's auc: 0.783593\tvalid's binary_logloss: 0.237832\n",
      "Training until validation scores don't improve for 100 rounds.\n",
      "[200]\ttrain's auc: 0.815245\ttrain's binary_logloss: 0.229979\tvalid's auc: 0.772881\tvalid's binary_logloss: 0.243533\n",
      "[400]\ttrain's auc: 0.852518\ttrain's binary_logloss: 0.213922\tvalid's auc: 0.783233\tvalid's binary_logloss: 0.238996\n",
      "[600]\ttrain's auc: 0.881791\ttrain's binary_logloss: 0.201445\tvalid's auc: 0.787143\tvalid's binary_logloss: 0.237469\n",
      "[800]\ttrain's auc: 0.904975\ttrain's binary_logloss: 0.190904\tvalid's auc: 0.788277\tvalid's binary_logloss: 0.236962\n",
      "[1000]\ttrain's auc: 0.923223\ttrain's binary_logloss: 0.181756\tvalid's auc: 0.7887\tvalid's binary_logloss: 0.236739\n",
      "Early stopping, best iteration is:\n",
      "[1041]\ttrain's auc: 0.926619\ttrain's binary_logloss: 0.179959\tvalid's auc: 0.788767\tvalid's binary_logloss: 0.236712\n",
      "Training until validation scores don't improve for 100 rounds.\n",
      "[200]\ttrain's auc: 0.814949\ttrain's binary_logloss: 0.230278\tvalid's auc: 0.770608\tvalid's binary_logloss: 0.242246\n",
      "[400]\ttrain's auc: 0.852217\ttrain's binary_logloss: 0.214174\tvalid's auc: 0.782415\tvalid's binary_logloss: 0.237629\n",
      "[600]\ttrain's auc: 0.881425\ttrain's binary_logloss: 0.201714\tvalid's auc: 0.786415\tvalid's binary_logloss: 0.236209\n",
      "[800]\ttrain's auc: 0.90469\ttrain's binary_logloss: 0.191164\tvalid's auc: 0.787748\tvalid's binary_logloss: 0.235716\n",
      "[1000]\ttrain's auc: 0.922974\ttrain's binary_logloss: 0.181998\tvalid's auc: 0.788433\tvalid's binary_logloss: 0.235481\n",
      "Early stopping, best iteration is:\n",
      "[995]\ttrain's auc: 0.922586\ttrain's binary_logloss: 0.182215\tvalid's auc: 0.788447\tvalid's binary_logloss: 0.235473\n",
      "Training until validation scores don't improve for 100 rounds.\n",
      "[200]\ttrain's auc: 0.8162\ttrain's binary_logloss: 0.229043\tvalid's auc: 0.768288\tvalid's binary_logloss: 0.246752\n",
      "[400]\ttrain's auc: 0.853489\ttrain's binary_logloss: 0.212997\tvalid's auc: 0.778967\tvalid's binary_logloss: 0.242406\n",
      "[600]\ttrain's auc: 0.88247\ttrain's binary_logloss: 0.200589\tvalid's auc: 0.782675\tvalid's binary_logloss: 0.241068\n",
      "[800]\ttrain's auc: 0.905844\ttrain's binary_logloss: 0.190054\tvalid's auc: 0.783983\tvalid's binary_logloss: 0.240592\n",
      "[1000]\ttrain's auc: 0.924475\ttrain's binary_logloss: 0.180792\tvalid's auc: 0.78426\tvalid's binary_logloss: 0.240508\n",
      "Early stopping, best iteration is:\n",
      "[989]\ttrain's auc: 0.923573\ttrain's binary_logloss: 0.181281\tvalid's auc: 0.784308\tvalid's binary_logloss: 0.2405\n",
      "Predictions saved to:  ../test_predictions/lgbm_second_tuned_bayes.csv\n"
     ]
    }
   ],
   "source": [
    "model, predictions, feature_importances, metrics = models.gbm_with_params(train_X, train_Y, test_X, feature_names, own_bayes)\n",
    "utils.create_and_save_submission(test_ids, predictions, save_path='../test_predictions/lgbm_second_tuned_bayes.csv')"
   ]
  },
  {
   "cell_type": "code",
   "execution_count": 44,
   "metadata": {},
   "outputs": [
    {
     "name": "stdout",
     "output_type": "stream",
     "text": [
      "      fold     train     valid\n",
      "0        0  0.931016  0.787033\n",
      "1        1  0.924463  0.783593\n",
      "2        2  0.926619  0.788767\n",
      "3        3  0.922586  0.788447\n",
      "4        4  0.923573  0.784308\n",
      "5  overall  0.925652  0.786423\n"
     ]
    }
   ],
   "source": [
    "print(metrics)"
   ]
  },
  {
   "cell_type": "code",
   "execution_count": null,
   "metadata": {},
   "outputs": [],
   "source": []
  }
 ],
 "metadata": {
  "kernelspec": {
   "display_name": "Python 3",
   "language": "python",
   "name": "python3"
  },
  "language_info": {
   "codemirror_mode": {
    "name": "ipython",
    "version": 3
   },
   "file_extension": ".py",
   "mimetype": "text/x-python",
   "name": "python",
   "nbconvert_exporter": "python",
   "pygments_lexer": "ipython3",
   "version": "3.7.3"
  }
 },
 "nbformat": 4,
 "nbformat_minor": 2
}
