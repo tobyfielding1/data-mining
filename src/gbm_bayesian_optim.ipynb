{
 "cells": [
  {
   "cell_type": "code",
   "execution_count": 1,
   "metadata": {},
   "outputs": [],
   "source": [
    "# imports\n",
    "import models\n",
    "import utils"
   ]
  },
  {
   "cell_type": "code",
   "execution_count": 2,
   "metadata": {},
   "outputs": [
    {
     "name": "stdout",
     "output_type": "stream",
     "text": [
      "Training data shape:  (307511, 122)\n",
      "Testing data shape:  (48744, 121)\n"
     ]
    }
   ],
   "source": [
    "#read in data - only using application_train\n",
    "app_train = utils.load_app_training_data()\n",
    "app_test = utils.load_test_data()"
   ]
  },
  {
   "cell_type": "code",
   "execution_count": 4,
   "metadata": {},
   "outputs": [],
   "source": [
    "train_data = utils.load_pickle(\"./final_features_train.pkl\")\n",
    "test_data = utils.load_pickle(\"./final_features_test.pkl\")"
   ]
  },
  {
   "cell_type": "code",
   "execution_count": 5,
   "metadata": {},
   "outputs": [
    {
     "name": "stdout",
     "output_type": "stream",
     "text": [
      "(307511, 660)\n",
      "(48744, 660)\n"
     ]
    }
   ],
   "source": [
    "print(train_data.shape)\n",
    "print(test_data.shape)"
   ]
  },
  {
   "cell_type": "code",
   "execution_count": 6,
   "metadata": {},
   "outputs": [],
   "source": [
    "train_data.drop(columns=['SK_ID_CURR'], inplace=True)\n",
    "test_data.drop(columns=['SK_ID_CURR'], inplace= True)"
   ]
  },
  {
   "cell_type": "code",
   "execution_count": 7,
   "metadata": {},
   "outputs": [
    {
     "data": {
      "text/plain": [
       "float64    659\n",
       "dtype: int64"
      ]
     },
     "execution_count": 7,
     "metadata": {},
     "output_type": "execute_result"
    }
   ],
   "source": [
    "train_data.dtypes.value_counts()"
   ]
  },
  {
   "cell_type": "code",
   "execution_count": 12,
   "metadata": {},
   "outputs": [
    {
     "data": {
      "text/html": [
       "<div>\n",
       "<style scoped>\n",
       "    .dataframe tbody tr th:only-of-type {\n",
       "        vertical-align: middle;\n",
       "    }\n",
       "\n",
       "    .dataframe tbody tr th {\n",
       "        vertical-align: top;\n",
       "    }\n",
       "\n",
       "    .dataframe thead th {\n",
       "        text-align: right;\n",
       "    }\n",
       "</style>\n",
       "<table border=\"1\" class=\"dataframe\">\n",
       "  <thead>\n",
       "    <tr style=\"text-align: right;\">\n",
       "      <th></th>\n",
       "      <th>NAME_CONTRACT_TYPE</th>\n",
       "      <th>FLAG_OWN_CAR</th>\n",
       "      <th>AMT_INCOME_TOTAL</th>\n",
       "      <th>AMT_CREDIT</th>\n",
       "      <th>AMT_ANNUITY</th>\n",
       "      <th>REGION_POPULATION_RELATIVE</th>\n",
       "      <th>DAYS_BIRTH</th>\n",
       "      <th>DAYS_EMPLOYED</th>\n",
       "      <th>DAYS_REGISTRATION</th>\n",
       "      <th>DAYS_ID_PUBLISH</th>\n",
       "      <th>...</th>\n",
       "      <th>DAYS_EMPLOYED EXT_SOURCE_1</th>\n",
       "      <th>EXT_SOURCE_1 EXT_SOURCE_3</th>\n",
       "      <th>EXT_SOURCE_2 DAYS_LAST_PHONE_CHANGE</th>\n",
       "      <th>EXT_SOURCE_2 DAYS_REGISTRATION</th>\n",
       "      <th>EXT_SOURCE_1 DAYS_REGISTRATION</th>\n",
       "      <th>EXT_SOURCE_2 EXT_SOURCE_3</th>\n",
       "      <th>EXT_SOURCE_3 DAYS_REGISTRATION</th>\n",
       "      <th>EXT_SOURCE_3 DAYS_ID_PUBLISH</th>\n",
       "      <th>EXT_SOURCE_1 DAYS_LAST_PHONE_CHANGE</th>\n",
       "      <th>EXT_SOURCE_2 EXT_SOURCE_1</th>\n",
       "    </tr>\n",
       "  </thead>\n",
       "  <tbody>\n",
       "    <tr>\n",
       "      <th>0</th>\n",
       "      <td>0.0</td>\n",
       "      <td>0.0</td>\n",
       "      <td>0.001512</td>\n",
       "      <td>0.090287</td>\n",
       "      <td>0.090032</td>\n",
       "      <td>0.256321</td>\n",
       "      <td>0.888839</td>\n",
       "      <td>0.045086</td>\n",
       "      <td>0.852140</td>\n",
       "      <td>0.705433</td>\n",
       "      <td>...</td>\n",
       "      <td>0.069647</td>\n",
       "      <td>0.011197</td>\n",
       "      <td>0.226286</td>\n",
       "      <td>0.262069</td>\n",
       "      <td>0.061537</td>\n",
       "      <td>0.047686</td>\n",
       "      <td>0.132128</td>\n",
       "      <td>0.109380</td>\n",
       "      <td>0.053135</td>\n",
       "      <td>0.022209</td>\n",
       "    </tr>\n",
       "    <tr>\n",
       "      <th>1</th>\n",
       "      <td>0.0</td>\n",
       "      <td>0.0</td>\n",
       "      <td>0.002089</td>\n",
       "      <td>0.311736</td>\n",
       "      <td>0.132924</td>\n",
       "      <td>0.045016</td>\n",
       "      <td>0.477114</td>\n",
       "      <td>0.043648</td>\n",
       "      <td>0.951929</td>\n",
       "      <td>0.959566</td>\n",
       "      <td>...</td>\n",
       "      <td>0.292178</td>\n",
       "      <td>0.178337</td>\n",
       "      <td>0.587373</td>\n",
       "      <td>0.692789</td>\n",
       "      <td>0.297890</td>\n",
       "      <td>0.414750</td>\n",
       "      <td>0.542494</td>\n",
       "      <td>0.546847</td>\n",
       "      <td>0.252563</td>\n",
       "      <td>0.227744</td>\n",
       "    </tr>\n",
       "    <tr>\n",
       "      <th>2</th>\n",
       "      <td>1.0</td>\n",
       "      <td>1.0</td>\n",
       "      <td>0.000358</td>\n",
       "      <td>0.022472</td>\n",
       "      <td>0.020025</td>\n",
       "      <td>0.134897</td>\n",
       "      <td>0.348534</td>\n",
       "      <td>0.046161</td>\n",
       "      <td>0.827335</td>\n",
       "      <td>0.648326</td>\n",
       "      <td>...</td>\n",
       "      <td>0.507778</td>\n",
       "      <td>0.418657</td>\n",
       "      <td>0.526726</td>\n",
       "      <td>0.537925</td>\n",
       "      <td>0.425447</td>\n",
       "      <td>0.529339</td>\n",
       "      <td>0.673558</td>\n",
       "      <td>0.527822</td>\n",
       "      <td>0.416590</td>\n",
       "      <td>0.334352</td>\n",
       "    </tr>\n",
       "    <tr>\n",
       "      <th>3</th>\n",
       "      <td>0.0</td>\n",
       "      <td>0.0</td>\n",
       "      <td>0.000935</td>\n",
       "      <td>0.066837</td>\n",
       "      <td>0.109477</td>\n",
       "      <td>0.107023</td>\n",
       "      <td>0.350846</td>\n",
       "      <td>0.038817</td>\n",
       "      <td>0.601451</td>\n",
       "      <td>0.661387</td>\n",
       "      <td>...</td>\n",
       "      <td>0.426991</td>\n",
       "      <td>0.293059</td>\n",
       "      <td>0.651388</td>\n",
       "      <td>0.457554</td>\n",
       "      <td>0.309289</td>\n",
       "      <td>0.433544</td>\n",
       "      <td>0.342760</td>\n",
       "      <td>0.376917</td>\n",
       "      <td>0.440313</td>\n",
       "      <td>0.391207</td>\n",
       "    </tr>\n",
       "    <tr>\n",
       "      <th>4</th>\n",
       "      <td>0.0</td>\n",
       "      <td>0.0</td>\n",
       "      <td>0.000819</td>\n",
       "      <td>0.116854</td>\n",
       "      <td>0.078975</td>\n",
       "      <td>0.392880</td>\n",
       "      <td>0.298591</td>\n",
       "      <td>0.038820</td>\n",
       "      <td>0.825268</td>\n",
       "      <td>0.519522</td>\n",
       "      <td>...</td>\n",
       "      <td>0.427020</td>\n",
       "      <td>0.293059</td>\n",
       "      <td>0.280202</td>\n",
       "      <td>0.311515</td>\n",
       "      <td>0.424384</td>\n",
       "      <td>0.215117</td>\n",
       "      <td>0.470311</td>\n",
       "      <td>0.296070</td>\n",
       "      <td>0.381725</td>\n",
       "      <td>0.194110</td>\n",
       "    </tr>\n",
       "  </tbody>\n",
       "</table>\n",
       "<p>5 rows × 659 columns</p>\n",
       "</div>"
      ],
      "text/plain": [
       "   NAME_CONTRACT_TYPE  FLAG_OWN_CAR  AMT_INCOME_TOTAL  AMT_CREDIT  \\\n",
       "0                 0.0           0.0          0.001512    0.090287   \n",
       "1                 0.0           0.0          0.002089    0.311736   \n",
       "2                 1.0           1.0          0.000358    0.022472   \n",
       "3                 0.0           0.0          0.000935    0.066837   \n",
       "4                 0.0           0.0          0.000819    0.116854   \n",
       "\n",
       "   AMT_ANNUITY  REGION_POPULATION_RELATIVE  DAYS_BIRTH  DAYS_EMPLOYED  \\\n",
       "0     0.090032                    0.256321    0.888839       0.045086   \n",
       "1     0.132924                    0.045016    0.477114       0.043648   \n",
       "2     0.020025                    0.134897    0.348534       0.046161   \n",
       "3     0.109477                    0.107023    0.350846       0.038817   \n",
       "4     0.078975                    0.392880    0.298591       0.038820   \n",
       "\n",
       "   DAYS_REGISTRATION  DAYS_ID_PUBLISH  ...  DAYS_EMPLOYED EXT_SOURCE_1  \\\n",
       "0           0.852140         0.705433  ...                    0.069647   \n",
       "1           0.951929         0.959566  ...                    0.292178   \n",
       "2           0.827335         0.648326  ...                    0.507778   \n",
       "3           0.601451         0.661387  ...                    0.426991   \n",
       "4           0.825268         0.519522  ...                    0.427020   \n",
       "\n",
       "   EXT_SOURCE_1 EXT_SOURCE_3  EXT_SOURCE_2 DAYS_LAST_PHONE_CHANGE  \\\n",
       "0                   0.011197                             0.226286   \n",
       "1                   0.178337                             0.587373   \n",
       "2                   0.418657                             0.526726   \n",
       "3                   0.293059                             0.651388   \n",
       "4                   0.293059                             0.280202   \n",
       "\n",
       "   EXT_SOURCE_2 DAYS_REGISTRATION  EXT_SOURCE_1 DAYS_REGISTRATION  \\\n",
       "0                        0.262069                        0.061537   \n",
       "1                        0.692789                        0.297890   \n",
       "2                        0.537925                        0.425447   \n",
       "3                        0.457554                        0.309289   \n",
       "4                        0.311515                        0.424384   \n",
       "\n",
       "   EXT_SOURCE_2 EXT_SOURCE_3  EXT_SOURCE_3 DAYS_REGISTRATION  \\\n",
       "0                   0.047686                        0.132128   \n",
       "1                   0.414750                        0.542494   \n",
       "2                   0.529339                        0.673558   \n",
       "3                   0.433544                        0.342760   \n",
       "4                   0.215117                        0.470311   \n",
       "\n",
       "   EXT_SOURCE_3 DAYS_ID_PUBLISH  EXT_SOURCE_1 DAYS_LAST_PHONE_CHANGE  \\\n",
       "0                      0.109380                             0.053135   \n",
       "1                      0.546847                             0.252563   \n",
       "2                      0.527822                             0.416590   \n",
       "3                      0.376917                             0.440313   \n",
       "4                      0.296070                             0.381725   \n",
       "\n",
       "   EXT_SOURCE_2 EXT_SOURCE_1  \n",
       "0                   0.022209  \n",
       "1                   0.227744  \n",
       "2                   0.334352  \n",
       "3                   0.391207  \n",
       "4                   0.194110  \n",
       "\n",
       "[5 rows x 659 columns]"
      ]
     },
     "execution_count": 12,
     "metadata": {},
     "output_type": "execute_result"
    }
   ],
   "source": [
    "train_data.head()"
   ]
  },
  {
   "cell_type": "code",
   "execution_count": 33,
   "metadata": {},
   "outputs": [],
   "source": [
    "train_data_x = train_data[['AMT_INCOME_TOTAL', 'AMT_CREDIT']].sample(1000)\n",
    "test_data_x = test_data[['AMT_INCOME_TOTAL', 'AMT_CREDIT']]\n",
    "train_data_y = train_Y[train_data_x.index]"
   ]
  },
  {
   "cell_type": "code",
   "execution_count": 34,
   "metadata": {},
   "outputs": [],
   "source": [
    "# convert from dataframes to arrays\n",
    "# get train labels and test ids\n",
    "train_Y = utils.get_train_labels(app_train)\n",
    "test_ids = app_test[['SK_ID_CURR']]\n",
    "train_X = train_data_x.values\n",
    "test_X = test_data_x.values\n",
    "feature_names = train_data_x.columns # required to create feature importances"
   ]
  },
  {
   "cell_type": "code",
   "execution_count": null,
   "metadata": {},
   "outputs": [],
   "source": [
    "import imp; imp.reload(models); imp.reload(utils)\n",
    "model, predictions, feature_importances, metrics, res = utils.gbm_bayesian_optim(train_X, train_Y, test_X, feature_names, samples=100, max_evals=3)"
   ]
  },
  {
   "cell_type": "code",
   "execution_count": null,
   "metadata": {},
   "outputs": [],
   "source": []
  }
 ],
 "metadata": {
  "kernelspec": {
   "display_name": "Python 3",
   "language": "python",
   "name": "python3"
  },
  "language_info": {
   "codemirror_mode": {
    "name": "ipython",
    "version": 3
   },
   "file_extension": ".py",
   "mimetype": "text/x-python",
   "name": "python",
   "nbconvert_exporter": "python",
   "pygments_lexer": "ipython3",
   "version": "3.7.3"
  }
 },
 "nbformat": 4,
 "nbformat_minor": 2
}
